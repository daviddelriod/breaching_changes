{
 "cells": [
  {
   "cell_type": "markdown",
   "id": "3ebef44a",
   "metadata": {},
   "source": [
    "# Decepticons: Corrupted Transformers Breach Privacy in Federated Learning for Language Models"
   ]
  },
  {
   "cell_type": "markdown",
   "id": "a756fc5f",
   "metadata": {},
   "source": [
    "This notebook shows an example for the threat model and attack described in \"Decepticons: Corrupted Transformers Breach Privacy in Federated Learning for Language Models\n",
    "\". This example deviates from the other \"honest-but-curious\" server models and investigates a malicious server that may send malicious server updates. The attack succeeds for a range of common transformer architectures and works merely by sending a single malicious query to the user model.\n",
    "\n",
    "In this notebook, we attack the commonly used BERT model (`bert-base-uncased` from the huggingface implementation).\n",
    "\n",
    "\n",
    "\n",
    "Paper URL: https://arxiv.org/abs/2201.12675"
   ]
  },
  {
   "cell_type": "markdown",
   "id": "1efd1107",
   "metadata": {},
   "source": [
    "### Abstract:\n",
    "A central tenet of Federated learning (FL), which trains models without centralizing user data, is privacy. However, previous work has shown that the gradient updates used in FL can leak user information. While the most industrial uses of FL are for text applications (e.g. keystroke prediction), nearly all attacks on FL privacy have focused on simple image classifiers. We propose a novel attack that reveals private user text by deploying malicious parameter vectors, and which succeeds even with mini-batches, multiple users, and long sequences. Unlike previous attacks on FL, the attack exploits characteristics of both the Transformer architecture and the token embedding, separately extracting tokens and positional embeddings to retrieve high-fidelity text. This work suggests that FL on text, which has historically been resistant to privacy attacks, is far more vulnerable than previously thought."
   ]
  },
  {
   "cell_type": "markdown",
   "id": "ce7676c5",
   "metadata": {},
   "source": [
    "### Startup"
   ]
  },
  {
   "cell_type": "code",
   "execution_count": 1,
   "id": "b850eabf",
   "metadata": {},
   "outputs": [],
   "source": [
    "try:\n",
    "    import breaching\n",
    "except ModuleNotFoundError:\n",
    "    # You only really need this safety net if you want to run these notebooks directly in the examples directory\n",
    "    # Don't worry about this if you installed the package or moved the notebook to the main directory.\n",
    "    import os; os.chdir(\"..\")\n",
    "    import breaching\n",
    "    \n",
    "import torch\n",
    "%load_ext autoreload\n",
    "%autoreload 2\n",
    "\n",
    "# Redirects logs directly into the jupyter notebook\n",
    "import logging, sys\n",
    "logging.basicConfig(level=logging.INFO, handlers=[logging.StreamHandler(sys.stdout)], format='%(message)s')\n",
    "logger = logging.getLogger()"
   ]
  },
  {
   "cell_type": "markdown",
   "id": "88d5e214",
   "metadata": {},
   "source": [
    "### Initialize cfg object and system setup:"
   ]
  },
  {
   "cell_type": "markdown",
   "id": "56bd663b",
   "metadata": {},
   "source": [
    "This will load the full configuration object. This includes the configuration for the use case and threat model as `cfg.case` and the hyperparameters and implementation of the attack as `cfg.attack`. All parameters can be modified below, or overriden with `overrides=` as if they were cmd-line arguments."
   ]
  },
  {
   "cell_type": "code",
   "execution_count": 2,
   "id": "a7dc3a48",
   "metadata": {},
   "outputs": [
    {
     "name": "stdout",
     "output_type": "stream",
     "text": [
      "Investigating use case bert_training with server type malicious_transformer_parameters.\n"
     ]
    },
    {
     "data": {
      "text/plain": [
       "{'device': device(type='cpu'), 'dtype': torch.float32}"
      ]
     },
     "execution_count": 2,
     "metadata": {},
     "output_type": "execute_result"
    }
   ],
   "source": [
    "cfg = breaching.get_config(overrides=[\"attack=decepticon\", \"case=9_bert_training\", \n",
    "                                     \"case/server=malicious-transformer\"])\n",
    "          \n",
    "device = torch.device('cpu')\n",
    "torch.backends.cudnn.benchmark = cfg.case.impl.benchmark\n",
    "setup = dict(device=device, dtype=getattr(torch, cfg.case.impl.dtype))\n",
    "setup"
   ]
  },
  {
   "cell_type": "markdown",
   "id": "203c5fb1",
   "metadata": {},
   "source": [
    "### Modify config options here"
   ]
  },
  {
   "cell_type": "markdown",
   "id": "6e0764ef",
   "metadata": {},
   "source": [
    "You can use `.attribute` access to modify any of these configurations for the attack, or the case:"
   ]
  },
  {
   "cell_type": "code",
   "execution_count": 3,
   "id": "ac118ea0",
   "metadata": {},
   "outputs": [],
   "source": [
    "cfg.case.user.num_data_points = 1 # How many sentences?\n",
    "cfg.case.user.user_idx = 1 # From which user?\n",
    "cfg.case.data.shape = [512] # This is the sequence length\n",
    "\n",
    "cfg.case.server.provide_public_buffers = True # Send server signal to disable dropout\n",
    "cfg.case.server.has_external_data = True  # Not strictly necessary, but could also use random text (see Appendix)\n",
    "cfg.case.data.tokenizer = \"bert-base-uncased\"\n",
    "cfg.case.model = \"bert-base-uncased\" # Could also choose \"bert-sanity-check\" which contains ReLU activations\n",
    "cfg.case.server.pretrained = False\n",
    "\n",
    "\n",
    "## Attack hyperparameters:\n",
    "\n",
    "# Server side:\n",
    "cfg.case.server.param_modification.reset_embedding=True\n",
    "cfg.case.server.param_modification.v_length = 32 # Length of the sentence component\n",
    "cfg.case.server.param_modification.eps = 1e-8\n",
    "cfg.case.server.param_modification.measurement_scale=1e8 # Circumvent GELU\n",
    "cfg.case.server.param_modification.imprint_sentence_position = 0\n",
    "cfg.case.server.param_modification.softmax_skew = 1e8\n",
    "cfg.case.server.param_modification.sequence_token_weight = 1\n",
    "\n",
    "\n",
    "# Attacker side:\n",
    "\n",
    "# this option requires installation of `k-means-constrained` which can be tricky:\n",
    "# If this doesn't work for you, falling back to \"dynamic-threshold\" is still a decent option.\n",
    "cfg.attack.sentence_algorithm = \"k-means\" \n",
    "cfg.attack.token_strategy=\"embedding-norm\" # can also do \"mixed\" for BERT\n",
    "cfg.attack.embedding_token_weight=0.25 # This can improve performance slightly for long sequences"
   ]
  },
  {
   "cell_type": "markdown",
   "id": "76f64389",
   "metadata": {},
   "source": [
    "### Instantiate all parties"
   ]
  },
  {
   "cell_type": "markdown",
   "id": "71983edf",
   "metadata": {},
   "source": [
    "The following lines generate \"server, \"user\" and \"attacker\" objects and print an overview of their configurations."
   ]
  },
  {
   "cell_type": "code",
   "execution_count": 4,
   "id": "d3abd955",
   "metadata": {},
   "outputs": [
    {
     "name": "stdout",
     "output_type": "stream",
     "text": [
      "Reusing dataset wikitext (/home/jonas/data/wikitext/wikitext-103-v1/1.0.0/a241db52902eaf2c6aa732210bead40c090019a499ceb13bcbfa3f8ab646a126)\n",
      "Reusing dataset wikitext (/home/jonas/data/wikitext/wikitext-103-v1/1.0.0/a241db52902eaf2c6aa732210bead40c090019a499ceb13bcbfa3f8ab646a126)\n",
      "Model architecture bert-base-uncased loaded with 109,514,298 parameters and 1,024 buffers.\n",
      "Overall this is a data ratio of  213895:1 for target shape [1, 512] given that num_queries=1.\n",
      "User (of type UserSingleStep) with settings:\n",
      "    Number of data points: 1\n",
      "\n",
      "    Threat model:\n",
      "    User provides labels: False\n",
      "    User provides buffers: False\n",
      "    User provides number of data points: True\n",
      "\n",
      "    Data:\n",
      "    Dataset: wikitext\n",
      "    user: 1\n",
      "    \n",
      "        \n",
      "Server (of type MaliciousTransformerServer) with settings:\n",
      "    Threat model: Malicious (Parameters)\n",
      "    Number of planned queries: 1\n",
      "    Has external/public data: True\n",
      "\n",
      "    Model:\n",
      "        model specification: bert-base-uncased\n",
      "        model state: default\n",
      "        public buffers: True\n",
      "\n",
      "    Secrets: {}\n",
      "    \n",
      "Attacker (of type DecepticonAttacker).\n"
     ]
    }
   ],
   "source": [
    "user, server, model, loss_fn = breaching.cases.construct_case(cfg.case, setup)\n",
    "attacker = breaching.attacks.prepare_attack(server.model, server.loss, cfg.attack, setup)\n",
    "breaching.utils.overview(server, user, attacker)"
   ]
  },
  {
   "cell_type": "markdown",
   "id": "548c0ad6",
   "metadata": {},
   "source": [
    "### Simulate an attacked FL protocol"
   ]
  },
  {
   "cell_type": "markdown",
   "id": "2058bcc2",
   "metadata": {},
   "source": [
    "This exchange is a simulation of a single query in a federated learning protocol. The server sends out a `server_payload` and the user computes an update based on their private local data. This user update is `shared_data` and contains, for example, the parameter gradient of the model in the simplest case. `true_user_data` is also returned by `.compute_local_updates`, but of course not forwarded to the server or attacker and only used for (our) analysis."
   ]
  },
  {
   "cell_type": "code",
   "execution_count": 5,
   "id": "b0dbd868",
   "metadata": {},
   "outputs": [
    {
     "name": "stdout",
     "output_type": "stream",
     "text": [
      "Found attention of shape torch.Size([768, 768]).\n",
      "Found attention of shape torch.Size([768, 768]).\n",
      "Computing feature distribution before the probe layer Linear(in_features=768, out_features=3072, bias=True) from external data.\n",
      "Feature mean is 8976919.0, feature std is 103903328.0.\n",
      "Computing user update on user 1 in model mode: eval.\n"
     ]
    }
   ],
   "source": [
    "server_payload = server.distribute_payload()\n",
    "shared_data, true_user_data = user.compute_local_updates(server_payload)  "
   ]
  },
  {
   "cell_type": "code",
   "execution_count": 6,
   "id": "49c68628",
   "metadata": {
    "scrolled": false
   },
   "outputs": [
    {
     "name": "stdout",
     "output_type": "stream",
     "text": [
      "[CLS] the tower building of the little rock arsenal transformed also known as u. s. arsenal building [MASK] is [MASK] building located in macarthur park [unused573] downtown little rock, arkansas. built in 1840, it was part of little rocklar s first [MASK] installation. since its decommissioning, [MASK] tower building has housed two museums. it was home to the arkansas museum of natural history and navigate from 1942 to 1997 [MASK] the macarthur museum of arkansas military history since 2001. [MASK] has also been the headquarters of the little rock æsthetic club since 1894. [SEP] [CLS] the building receives [MASK] name [MASK] [MASK] distinct octagonal tower. besides [MASK] the last remaining structure of the original [MASK] rock arsenal and one of the oldest buildings in central arkansas, it was [MASK] the birthplace of general douglas macarthur, who became the supreme commander of us forces in the [MASK] [MASK] during world war ii. it was also the starting place of the camden expedition [MASK] in 2011 it was [MASK] as one of the top 10 attractions in [MASK] state of arkansas by [MASK] un [MASK] [MASK] [SEP] [CLS] the arsenal was constructed at the request of governor james se [MASK] [MASK] in response to [MASK] perceived dangers of frontier life and fears of the many native americans who were passing through the state on their way [MASK] the newly established oklahoma territory [MASK] thirty @ - @ six acres were appropriated [MASK] the outskirts of little rock by major robert [MASK]. lee of the u dilemma s. [MASK]. the land [MASK] [MASK] previously used as [MASK] racetrack byge [MASK] jockey club. john wormley walker, a builder for the federal government, supervised the [MASK]. originally $ 14 [MASK], @ 000 was allocated for the construction of the arsenal, but proved [MASK]. [MASK] [MASK] was later increased to $ 30 [MASK], @ [MASK]. work began on [MASK] tower building in 1840 [MASK] and it was the first permanent structure of the [MASK] to be built. being originally constructed to store ammunition, the building was designed [MASK] 3 @ - @ foot @ - @ thick ( [MASK] @. @ 91 m ) exterior walls. the original plans called [MASK] it [MASK] be built of stone [MASK] however, masonry was [MASK] instead. the arkansas [MASK] referred to the structure as \" stifled splendid specimen of masonry 明. [SEP] [CLS] for several [MASK] the arsenal, which was owned by the federal government, served as a simple [MASK] depot and was staffed [MASK] only consort handful of soldiers. [MASK] in november 1860 [MASK] with the american civil war on the horizon, a [MASK] of the second united states artillery, consisting of sixty @ - @ five men, was transferred to little rock under the command of captain james [MASK]tten.\n"
     ]
    }
   ],
   "source": [
    "user.print(true_user_data)"
   ]
  },
  {
   "cell_type": "markdown",
   "id": "17255c5a",
   "metadata": {},
   "source": [
    "### Reconstruct user data:"
   ]
  },
  {
   "cell_type": "markdown",
   "id": "d93e8cd6",
   "metadata": {},
   "source": [
    "Now we launch the attack, reconstructing user data based on only the `server_payload` and the `shared_data`. \n",
    "\n",
    "For this attack, we also share secret information from the malicious server with the attack (`server.secrets`), which here is the location and structure of the imprint block."
   ]
  },
  {
   "cell_type": "code",
   "execution_count": 7,
   "id": "c9a32fd7",
   "metadata": {},
   "outputs": [
    {
     "name": "stdout",
     "output_type": "stream",
     "text": [
      "Recovered tokens tensor([   27,    96,   101,   102,   103,   138,   202,   425,   468,   532,\n",
      "          578,   665,   670,   808,   896,   991,  1000,  1002,  1005,  1006,\n",
      "         1007,  1010,  1011,  1012,  1014,  1017,  1026,  1028,  1030,  1037,\n",
      "         1038,  1049,  1055,  1057,  1097,  1360,  1554,  1765,  1865,  1996,\n",
      "         1997,  1998,  1999,  2000,  2001,  2003,  2004,  2005,  2006,  2007,\n",
      "         2009,  2011,  2012,  2013,  2017,  2018,  2020,  2021,  2022,  2028,\n",
      "         2029,  2034,  2036,  2037,  2038,  2040,  2042,  2048,  2049,  2050,\n",
      "         2069,  2075,  2076,  2083,  2086,  2088,  2101,  2104,  2108,  2109,\n",
      "         2110,  2112,  2116,  2117,  2124,  2126,  2137,  2142,  2144,  2147,\n",
      "         2148,  2149,  2150,  2162,  2163,  2166,  2170,  2171,  2173,  2174,\n",
      "         2184,  2188,  2194,  2195,  2197,  2198,  2199,  2210,  2211,  2231,\n",
      "         2236,  2243,  2249,  2252,  2261,  2273,  2274,  2281,  2284,  2308,\n",
      "         2311,  2315,  2327,  2328,  2332,  2334,  2350,  2354,  2366,  2380,\n",
      "         2381,  2382,  2390,  2392,  2403,  2416,  2430,  2434,  2455,  2462,\n",
      "         2508,  2510,  2511,  2541,  2600,  2608,  2612,  2688,  2722,  2728,\n",
      "         2737,  2747,  2749,  2761,  2763,  2810,  2881,  2890,  2942,  2952,\n",
      "         2962,  2976,  3019,  3051,  3079,  3094,  3099,  3121,  3128,  3130,\n",
      "         3143,  3220,  3225,  3252,  3258,  3329,  3331,  3337,  3338,  3351,\n",
      "         3364,  3367,  3389,  3433,  3445,  3453,  3474,  3488,  3493,  3529,\n",
      "         3534,  3548,  3573,  3578,  3588,  3611,  3615,  3681,  3699,  3700,\n",
      "         3722,  3758,  3785,  3833,  3927,  3941,  4015,  4075,  4160,  4228,\n",
      "         4246,  4259,  4317,  4337,  4397,  4458,  4568,  4587,  4631,  4661,\n",
      "         4841,  4893,  4895,  4900,  4928,  4939,  4982,  5072,  5116,  5166,\n",
      "         5203,  5227,  5229,  5232,  5287,  5398,  5476,  5590,  5596,  5664,\n",
      "         5843,  5858,  6026,  6028,  6205,  6470,  6523,  6539,  6552,  6640,\n",
      "         6707,  6751,  6830,  6898,  6912,  6920,  6991,  7076,  7167,  7235,\n",
      "         7285,  7313,  7367,  7382,  7431,  7516,  7620,  7797,  7875,  7911,\n",
      "         7931,  8017,  8018,  8077,  8090,  8267,  8272,  8402,  8442,  8470,\n",
      "         8553,  8590,  8690,  8793,  8808,  8829,  8875,  8880,  8905,  8914,\n",
      "         8934,  8951,  9048,  9154,  9171,  9210,  9290,  9371,  9395,  9414,\n",
      "         9433,  9443,  9659,  9673,  9941,  9945, 10007, 10069, 10315, 10370,\n",
      "        10376, 10435, 10463, 10705, 10910, 11095, 11145, 11153, 11230, 11375,\n",
      "        11391, 11483, 11718, 11773, 11847, 11851, 11869, 12254, 12410, 12440,\n",
      "        12508, 12511, 12569, 12581, 12726, 12730, 12927, 13013, 13051, 13236,\n",
      "        13267, 13314, 13344, 13440, 13464, 13486, 13521, 13553, 13588, 13788,\n",
      "        13804, 13846, 13855, 13989, 14008, 14356, 14508, 14564, 14615, 14643,\n",
      "        14710, 14783, 14971, 14979, 15123, 15130, 15215, 15250, 15292, 15412,\n",
      "        15485, 15560, 15861, 15895, 15952, 16210, 16307, 16341, 16395, 16445,\n",
      "        16446, 16543, 16631, 16796, 16855, 16884, 16901, 16915, 17321, 17609,\n",
      "        17719, 17727, 17939, 18015, 18066, 18103, 18141, 18187, 18304, 18414,\n",
      "        18679, 18748, 19122, 19288, 19500, 19538, 19738, 19959, 20086, 20245,\n",
      "        20249, 20278, 20294, 20376, 20476, 20512, 20876, 20895, 20972, 21019,\n",
      "        21110, 21121, 21140, 21308, 21387, 21457, 21459, 21585, 21660, 21740,\n",
      "        21784, 21883, 21933, 21966, 22077, 22149, 22163, 22184, 22340, 22342,\n",
      "        22355, 22396, 22422, 22429, 22596, 22641, 22736, 22849, 22939, 23062,\n",
      "        23258, 23313, 23368, 23439, 23680, 23773, 23781, 23888, 23974, 24158,\n",
      "        24237, 24330, 24333, 24346, 24655, 24859, 24955, 25016, 25243, 25360,\n",
      "        25382, 25469, 25501, 25648, 25675, 25679, 25755, 25760, 25768, 25802,\n",
      "        25881, 25916, 25970, 26279, 26284, 26353, 26568, 26600, 26701, 27146,\n",
      "        27282, 27421, 27427, 27508, 27604, 27688, 27758, 28435, 28443, 28597,\n",
      "        28676, 28834, 28971, 29055, 29095, 29181, 29223, 29740, 29956, 30349,\n",
      "        30399, 30435]) through strategy embedding-norm.\n",
      "Recovered 496 embeddings with positional data from imprinted layer.\n",
      "Replaced 295 tokens with avg. corr 0.08390423655509949 with new tokens with avg corr 0.9901418685913086\n"
     ]
    }
   ],
   "source": [
    "reconstructed_user_data, stats = attacker.reconstruct([server_payload], [shared_data], server.secrets, \n",
    "                                                      dryrun=cfg.dryrun)"
   ]
  },
  {
   "cell_type": "markdown",
   "id": "28c35e12",
   "metadata": {},
   "source": [
    "Next we'll evaluate metrics, comparing the `reconstructed_user_data` to the `true_user_data`."
   ]
  },
  {
   "cell_type": "code",
   "execution_count": 8,
   "id": "31f2685a",
   "metadata": {},
   "outputs": [
    {
     "name": "stdout",
     "output_type": "stream",
     "text": [
      "Starting evaluations for attack effectiveness report...\n",
      "Using default tokenizer.\n",
      "METRICS: | Accuracy: 0.9102 | S-BLEU: 0.82 | FMSE: 1.0441e+01 | \n",
      " G-BLEU: 0.79 | ROUGE1: 0.97| ROUGE2: 0.85 | ROUGE-L: 0.93| Token Acc T:95.51%/A:96.35% | Label Acc: 52.44%\n"
     ]
    }
   ],
   "source": [
    "metrics = breaching.analysis.report(reconstructed_user_data, true_user_data, [server_payload], \n",
    "                                    server.model, order_batch=True, compute_full_iip=False, \n",
    "                                    cfg_case=cfg.case, setup=setup)"
   ]
  },
  {
   "cell_type": "markdown",
   "id": "f920aca0",
   "metadata": {},
   "source": [
    "And finally, we also plot the reconstructed data:"
   ]
  },
  {
   "cell_type": "code",
   "execution_count": 9,
   "id": "631f4a84",
   "metadata": {
    "scrolled": false
   },
   "outputs": [
    {
     "name": "stdout",
     "output_type": "stream",
     "text": [
      "[CLS] the tower building of the little rock arsenal transformed also known as u. s. arsenal building [MASK] is [MASK] building located in macarthur park [unused573] downtown little rock life arkansas. established in 1840 tower it was part of little rocklar s first [MASK] installation. since its decommissioning handful [MASK] and building has housed two museums. it was home to the of museum of natural history and navigate from 1942 to 1997 [MASK] the macarthur museum of arkansas military history since 2001. [MASK] has also been the headquarters of the little rock æsthetic club since 1894. [SEP] [SEP] the building receives [MASK] name [MASK] [MASK] distinct arkansas tower. besides [MASK] the world remaining structure of the original [MASK] rock arsenal and one of the oldest buildings in central arkansas who it was [MASK] referred birthplace of general douglas macarthur, who. the supreme commander of us forces in the [MASK] [MASK] during place war ii. it was also the starting also of the camden expedition [MASK] in 2011 it was [MASK] as one of the top 10 attractions in, state response arkansas by [MASK] un [MASK] [MASK] [SEP] [CLS] the arsenal was constructed at the request of - james se [MASK] [MASK] in [MASK] to [MASK] perceived dangers of frontier life and fears of the many native americans, were passing through the state on their way [MASK] the newly established oklahoma territory [MASK] thirty @ - @ six acres were appropriated [MASK] the outskirts of little rock by major robert [MASK]. lee of the u dilemma s. [MASK]. the land [MASK] [MASK] previously used as [MASK] racetrack byge [MASK] jockey club. john wormley walker [MASK] a builder for the federal government horizon supervised the [MASK]. originally $ 14 [MASK] was @ 000 was allocated for the construction of the arsenal first but later [MASK]. [MASK] [MASK] was later increased to dilemma 30 [MASK]ge @ [MASK]. work began on [MASK] tower building in 1840 [MASK] 明 it was the first permanent structure of the [MASK] soldiers be built. being originally constructed to store ammunition a the building was designed [MASK] the @ - @ foot @ - @ thick ( [MASK] @ [MASK] @ little m for exterior walls. the original plans called [MASK] it [MASK] be built of stone [MASK] however walls masonry was [MASK] instead. the arkansas [MASK] 91 to the structure as \" stifled splendid specimen of masonry 明. [SEP] [CLS] for several [MASK] the arsenal of which was owned by the federal became buildings served as a simple [MASK] [MASK] and was staffed [MASK] only last handful of,. [MASK] in november 1860 [MASK] with the american civil war on the horizon [MASK] a [MASK] of the second united states artillery built consisting of sixty @ [SEP] @ five men governor [MASK] transferred to little rock under the command of captain james [MASK]tten.\n"
     ]
    }
   ],
   "source": [
    "user.print(reconstructed_user_data)"
   ]
  },
  {
   "cell_type": "code",
   "execution_count": 11,
   "id": "e3ed41be",
   "metadata": {
    "scrolled": false
   },
   "outputs": [
    {
     "name": "stdout",
     "output_type": "stream",
     "text": [
      "\u001b[48;5;184m[CLS] \u001b[0m\u001b[48;5;184mthe \u001b[0m\u001b[48;5;184mtower \u001b[0m\u001b[48;5;184mbuilding \u001b[0m\u001b[48;5;184mof \u001b[0m\u001b[48;5;184mthe \u001b[0m\u001b[48;5;184mlittle \u001b[0m\u001b[48;5;184mrock \u001b[0m\u001b[48;5;184marsenal \u001b[0m\u001b[48;5;184mtransformed \u001b[0m\u001b[48;5;184malso \u001b[0m\u001b[48;5;184mknown \u001b[0m\u001b[48;5;184mas \u001b[0m\u001b[48;5;184mu \u001b[0m\u001b[48;5;184m. \u001b[0m\u001b[48;5;184ms \u001b[0m\u001b[48;5;184m. \u001b[0m\u001b[48;5;184marsenal \u001b[0m\u001b[48;5;184mbuilding \u001b[0m\u001b[48;5;184m[MASK] \u001b[0m\u001b[48;5;184mis \u001b[0m\u001b[48;5;184m[MASK] \u001b[0m\u001b[48;5;184mbuilding \u001b[0m\u001b[48;5;184mlocated \u001b[0m\u001b[48;5;184min \u001b[0m\u001b[48;5;184mmacarthur \u001b[0m\u001b[48;5;184mpark \u001b[0m\u001b[48;5;184m[unused573] \u001b[0m\u001b[48;5;184mdowntown \u001b[0m\u001b[48;5;184mlittle \u001b[0m\u001b[48;5;184mrock \u001b[0m\u001b[48;5;178mlife \u001b[0m\u001b[48;5;184markansas \u001b[0m\u001b[48;5;184m. \u001b[0m\u001b[48;5;178mestablished \u001b[0m\u001b[48;5;184min \u001b[0m\u001b[48;5;184m1840 \u001b[0m\u001b[48;5;178mtower \u001b[0m\u001b[48;5;184mit \u001b[0m\u001b[48;5;184mwas \u001b[0m\u001b[48;5;184mpart \u001b[0m\u001b[48;5;184mof \u001b[0m\u001b[48;5;184mlittle \u001b[0m\u001b[48;5;184mrock \u001b[0m\u001b[48;5;184m##lar \u001b[0m\u001b[48;5;184ms \u001b[0m\u001b[48;5;184mfirst \u001b[0m\u001b[48;5;184m[MASK] \u001b[0m\u001b[48;5;184minstallation \u001b[0m\u001b[48;5;184m. \u001b[0m\u001b[48;5;184msince \u001b[0m\u001b[48;5;184mits \u001b[0m\u001b[48;5;184mdeco \u001b[0m\u001b[48;5;184m##mm \u001b[0m\u001b[48;5;184m##iss \u001b[0m\u001b[48;5;184m##ion \u001b[0m\u001b[48;5;184m##ing \u001b[0m\u001b[48;5;178mhandful \u001b[0m\u001b[48;5;184m[MASK] \u001b[0m\u001b[48;5;178mand \u001b[0m\u001b[48;5;184mbuilding \u001b[0m\u001b[48;5;184mhas \u001b[0m\u001b[48;5;184mhoused \u001b[0m\u001b[48;5;184mtwo \u001b[0m\u001b[48;5;184mmuseums \u001b[0m\u001b[48;5;184m. \u001b[0m\u001b[48;5;184mit \u001b[0m\u001b[48;5;184mwas \u001b[0m\u001b[48;5;184mhome \u001b[0m\u001b[48;5;184mto \u001b[0m\u001b[48;5;184mthe \u001b[0m\u001b[48;5;178mof \u001b[0m\u001b[48;5;184mmuseum \u001b[0m\u001b[48;5;184mof \u001b[0m\u001b[48;5;184mnatural \u001b[0m\u001b[48;5;184mhistory \u001b[0m\u001b[48;5;184mand \u001b[0m\u001b[48;5;184mnavigate \u001b[0m\u001b[48;5;184mfrom \u001b[0m\u001b[48;5;184m1942 \u001b[0m\u001b[48;5;184mto \u001b[0m\u001b[48;5;184m1997 \u001b[0m\u001b[48;5;184m[MASK] \u001b[0m\u001b[48;5;184mthe \u001b[0m\u001b[48;5;184mmacarthur \u001b[0m\u001b[48;5;184mmuseum \u001b[0m\u001b[48;5;184mof \u001b[0m\u001b[48;5;184markansas \u001b[0m\u001b[48;5;184mmilitary \u001b[0m\u001b[48;5;184mhistory \u001b[0m\u001b[48;5;184msince \u001b[0m\u001b[48;5;184m2001 \u001b[0m\u001b[48;5;184m. \u001b[0m\u001b[48;5;184m[MASK] \u001b[0m\u001b[48;5;184mhas \u001b[0m\u001b[48;5;184malso \u001b[0m\u001b[48;5;184mbeen \u001b[0m\u001b[48;5;184mthe \u001b[0m\u001b[48;5;184mheadquarters \u001b[0m\u001b[48;5;184mof \u001b[0m\u001b[48;5;184mthe \u001b[0m\u001b[48;5;184mlittle \u001b[0m\u001b[48;5;184mrock \u001b[0m\u001b[48;5;184mæ \u001b[0m\u001b[48;5;184m##st \u001b[0m\u001b[48;5;184m##hetic \u001b[0m\u001b[48;5;184mclub \u001b[0m\u001b[48;5;184msince \u001b[0m\u001b[48;5;184m1894 \u001b[0m\u001b[48;5;184m. \u001b[0m\u001b[48;5;184m[SEP] \u001b[0m\u001b[48;5;178m[SEP] \u001b[0m\u001b[48;5;184mthe \u001b[0m\u001b[48;5;184mbuilding \u001b[0m\u001b[48;5;184mreceives \u001b[0m\u001b[48;5;184m[MASK] \u001b[0m\u001b[48;5;184mname \u001b[0m\u001b[48;5;184m[MASK] \u001b[0m\u001b[48;5;184m[MASK] \u001b[0m\u001b[48;5;184mdistinct \u001b[0m\u001b[48;5;178markansas \u001b[0m\u001b[48;5;184mtower \u001b[0m\u001b[48;5;184m. \u001b[0m\u001b[48;5;184mbesides \u001b[0m\u001b[48;5;184m[MASK] \u001b[0m\u001b[48;5;184mthe \u001b[0m\u001b[48;5;178mworld \u001b[0m\u001b[48;5;184mremaining \u001b[0m\u001b[48;5;184mstructure \u001b[0m\u001b[48;5;184mof \u001b[0m\u001b[48;5;184mthe \u001b[0m\u001b[48;5;184moriginal \u001b[0m\u001b[48;5;184m[MASK] \u001b[0m\u001b[48;5;184mrock \u001b[0m\u001b[48;5;184marsenal \u001b[0m\u001b[48;5;184mand \u001b[0m\u001b[48;5;184mone \u001b[0m\u001b[48;5;184mof \u001b[0m\u001b[48;5;184mthe \u001b[0m\u001b[48;5;184moldest \u001b[0m\u001b[48;5;184mbuildings \u001b[0m\u001b[48;5;184min \u001b[0m\u001b[48;5;184mcentral \u001b[0m\u001b[48;5;184markansas \u001b[0m\u001b[48;5;178mwho \u001b[0m\u001b[48;5;184mit \u001b[0m\u001b[48;5;184mwas \u001b[0m\u001b[48;5;184m[MASK] \u001b[0m\u001b[48;5;178mreferred \u001b[0m\u001b[48;5;184mbirthplace \u001b[0m\u001b[48;5;184mof \u001b[0m\u001b[48;5;184mgeneral \u001b[0m\u001b[48;5;184mdouglas \u001b[0m\u001b[48;5;184mmacarthur \u001b[0m\u001b[48;5;178m, \u001b[0m\u001b[48;5;184mwho \u001b[0m\u001b[48;5;178m. \u001b[0m\u001b[48;5;184mthe \u001b[0m\u001b[48;5;184msupreme \u001b[0m\u001b[48;5;184mcommander \u001b[0m\u001b[48;5;184mof \u001b[0m\u001b[48;5;184mus \u001b[0m\u001b[48;5;184mforces \u001b[0m\u001b[48;5;184min \u001b[0m\u001b[48;5;184mthe \u001b[0m\u001b[48;5;184m[MASK] \u001b[0m\u001b[48;5;184m[MASK] \u001b[0m\u001b[48;5;184mduring \u001b[0m\u001b[48;5;178mplace \u001b[0m\u001b[48;5;184mwar \u001b[0m\u001b[48;5;184mii \u001b[0m\u001b[48;5;184m. \u001b[0m\u001b[48;5;184mit \u001b[0m\u001b[48;5;184mwas \u001b[0m\u001b[48;5;184malso \u001b[0m\u001b[48;5;184mthe \u001b[0m\u001b[48;5;184mstarting \u001b[0m\u001b[48;5;178malso \u001b[0m\u001b[48;5;184mof \u001b[0m\u001b[48;5;184mthe \u001b[0m\u001b[48;5;184mcamden \u001b[0m\u001b[48;5;184mexpedition \u001b[0m\u001b[48;5;184m[MASK] \u001b[0m\u001b[48;5;184min \u001b[0m\u001b[48;5;184m2011 \u001b[0m\u001b[48;5;184mit \u001b[0m\u001b[48;5;184mwas \u001b[0m\u001b[48;5;184m[MASK] \u001b[0m\u001b[48;5;184mas \u001b[0m\u001b[48;5;184mone \u001b[0m\u001b[48;5;184mof \u001b[0m\u001b[48;5;184mthe \u001b[0m\u001b[48;5;184mtop \u001b[0m\u001b[48;5;184m10 \u001b[0m\u001b[48;5;184mattractions \u001b[0m\u001b[48;5;184min \u001b[0m\u001b[48;5;178m, \u001b[0m\u001b[48;5;184mstate \u001b[0m\u001b[48;5;178mresponse \u001b[0m\u001b[48;5;184markansas \u001b[0m\u001b[48;5;184mby \u001b[0m\u001b[48;5;184m[MASK] \u001b[0m\u001b[48;5;184mun \u001b[0m\u001b[48;5;184m[MASK] \u001b[0m\u001b[48;5;184m[MASK] \u001b[0m\u001b[48;5;184m[SEP] \u001b[0m\u001b[48;5;184m[CLS] \u001b[0m\u001b[48;5;184mthe \u001b[0m\u001b[48;5;184marsenal \u001b[0m\u001b[48;5;184mwas \u001b[0m\u001b[48;5;184mconstructed \u001b[0m\u001b[48;5;184mat \u001b[0m\u001b[48;5;184mthe \u001b[0m\u001b[48;5;184mrequest \u001b[0m\u001b[48;5;184mof \u001b[0m\u001b[48;5;178m- \u001b[0m\u001b[48;5;184mjames \u001b[0m\u001b[48;5;184mse \u001b[0m\u001b[48;5;184m[MASK] \u001b[0m\u001b[48;5;184m[MASK] \u001b[0m\u001b[48;5;184min \u001b[0m\u001b[48;5;178m[MASK] \u001b[0m\u001b[48;5;178mto \u001b[0m\u001b[48;5;184m[MASK] \u001b[0m\u001b[48;5;184mperceived \u001b[0m\u001b[48;5;184mdangers \u001b[0m\u001b[48;5;184mof \u001b[0m\u001b[48;5;184mfrontier \u001b[0m\u001b[48;5;184mlife \u001b[0m\u001b[48;5;184mand \u001b[0m\u001b[48;5;184mfears \u001b[0m\u001b[48;5;184mof \u001b[0m\u001b[48;5;184mthe \u001b[0m\u001b[48;5;184mmany \u001b[0m\u001b[48;5;184mnative \u001b[0m\u001b[48;5;184mamericans \u001b[0m\u001b[48;5;178m, \u001b[0m\u001b[48;5;184mwere \u001b[0m\u001b[48;5;184mpassing \u001b[0m\u001b[48;5;184mthrough \u001b[0m\u001b[48;5;184mthe \u001b[0m\u001b[48;5;184mstate \u001b[0m\u001b[48;5;184mon \u001b[0m\u001b[48;5;184mtheir \u001b[0m\u001b[48;5;184mway \u001b[0m\u001b[48;5;184m[MASK] \u001b[0m\u001b[48;5;184mthe \u001b[0m\u001b[48;5;184mnewly \u001b[0m\u001b[48;5;184mestablished \u001b[0m\u001b[48;5;184moklahoma \u001b[0m\u001b[48;5;184mterritory \u001b[0m\u001b[48;5;184m[MASK] \u001b[0m\u001b[48;5;184mthirty \u001b[0m\u001b[48;5;184m@ \u001b[0m\u001b[48;5;184m- \u001b[0m\u001b[48;5;184m@ \u001b[0m\u001b[48;5;184msix \u001b[0m\u001b[48;5;184macres \u001b[0m\u001b[48;5;184mwere \u001b[0m\u001b[48;5;184mappropriated \u001b[0m\u001b[48;5;184m[MASK] \u001b[0m\u001b[48;5;184mthe \u001b[0m\u001b[48;5;184moutskirts \u001b[0m\u001b[48;5;184mof \u001b[0m\u001b[48;5;184mlittle \u001b[0m\u001b[48;5;184mrock \u001b[0m\u001b[48;5;184mby \u001b[0m\u001b[48;5;184mmajor \u001b[0m\u001b[48;5;184mrobert \u001b[0m\u001b[48;5;184m[MASK] \u001b[0m\u001b[48;5;184m. \u001b[0m\u001b[48;5;184mlee \u001b[0m\u001b[48;5;184mof \u001b[0m\u001b[48;5;184mthe \u001b[0m\u001b[48;5;184mu \u001b[0m\u001b[48;5;184mdilemma \u001b[0m\u001b[48;5;184ms \u001b[0m\u001b[48;5;184m. \u001b[0m\u001b[48;5;184m[MASK] \u001b[0m\u001b[48;5;184m. \u001b[0m\u001b[48;5;184mthe \u001b[0m\u001b[48;5;184mland \u001b[0m\u001b[48;5;184m[MASK] \u001b[0m\u001b[48;5;184m[MASK] \u001b[0m\u001b[48;5;184mpreviously \u001b[0m\u001b[48;5;184mused \u001b[0m\u001b[48;5;184mas \u001b[0m\u001b[48;5;184m[MASK] \u001b[0m\u001b[48;5;184mracetrack \u001b[0m\u001b[48;5;184mby \u001b[0m\u001b[48;5;184m##ge \u001b[0m\u001b[48;5;184m[MASK] \u001b[0m\u001b[48;5;184mjockey \u001b[0m\u001b[48;5;184mclub \u001b[0m\u001b[48;5;184m. \u001b[0m\u001b[48;5;184mjohn \u001b[0m\u001b[48;5;184mworm \u001b[0m\u001b[48;5;184m##ley \u001b[0m\u001b[48;5;184mwalker \u001b[0m\u001b[48;5;178m[MASK] \u001b[0m\u001b[48;5;184ma \u001b[0m\u001b[48;5;184mbuilder \u001b[0m\u001b[48;5;184mfor \u001b[0m\u001b[48;5;184mthe \u001b[0m\u001b[48;5;184mfederal \u001b[0m\u001b[48;5;184mgovernment \u001b[0m\u001b[48;5;178mhorizon \u001b[0m\u001b[48;5;184msupervised \u001b[0m\u001b[48;5;184mthe \u001b[0m\u001b[48;5;184m[MASK] \u001b[0m\u001b[48;5;184m. \u001b[0m\u001b[48;5;184moriginally \u001b[0m\u001b[48;5;184m$ \u001b[0m\u001b[48;5;184m14 \u001b[0m\u001b[48;5;184m[MASK] \u001b[0m\u001b[48;5;178mwas \u001b[0m\u001b[48;5;184m@ \u001b[0m\u001b[48;5;184m000 \u001b[0m\u001b[48;5;184mwas \u001b[0m\u001b[48;5;184mallocated \u001b[0m\u001b[48;5;184mfor \u001b[0m\u001b[48;5;184mthe \u001b[0m\u001b[48;5;184mconstruction \u001b[0m\u001b[48;5;184mof \u001b[0m\u001b[48;5;178mthe \u001b[0m\u001b[48;5;184marsenal \u001b[0m\u001b[48;5;178mfirst \u001b[0m\u001b[48;5;184mbut \u001b[0m\u001b[48;5;178mlater \u001b[0m\u001b[48;5;184m[MASK] \u001b[0m\u001b[48;5;184m. \u001b[0m\u001b[48;5;184m[MASK] \u001b[0m\u001b[48;5;184m[MASK] \u001b[0m\u001b[48;5;184mwas \u001b[0m\u001b[48;5;184mlater \u001b[0m\u001b[48;5;184mincreased \u001b[0m\u001b[48;5;184mto \u001b[0m\u001b[48;5;178mdilemma \u001b[0m\u001b[48;5;184m30 \u001b[0m\u001b[48;5;184m[MASK] \u001b[0m\u001b[48;5;178m##ge \u001b[0m\u001b[48;5;184m@ \u001b[0m\u001b[48;5;184m[MASK] \u001b[0m\u001b[48;5;184m. \u001b[0m\u001b[48;5;184mwork \u001b[0m\u001b[48;5;166mbegan \u001b[0m\u001b[48;5;184mon \u001b[0m\u001b[48;5;184m[MASK] \u001b[0m\u001b[48;5;184mtower \u001b[0m\u001b[48;5;184mbuilding \u001b[0m\u001b[48;5;184min \u001b[0m\u001b[48;5;184m1840 \u001b[0m\u001b[48;5;184m[MASK] \u001b[0m\u001b[48;5;178m明 \u001b[0m\u001b[48;5;184mit \u001b[0m\u001b[48;5;184mwas \u001b[0m\u001b[48;5;184mthe \u001b[0m\u001b[48;5;184mfirst \u001b[0m\u001b[48;5;184mpermanent \u001b[0m\u001b[48;5;184mstructure \u001b[0m\u001b[48;5;184mof \u001b[0m\u001b[48;5;184mthe \u001b[0m\u001b[48;5;184m[MASK] \u001b[0m\u001b[48;5;166msoldiers \u001b[0m\u001b[48;5;184mbe \u001b[0m\u001b[48;5;184mbuilt \u001b[0m\u001b[48;5;184m. \u001b[0m\u001b[48;5;184mbeing \u001b[0m\u001b[48;5;184moriginally \u001b[0m\u001b[48;5;184mconstructed \u001b[0m\u001b[48;5;184mto \u001b[0m\u001b[48;5;184mstore \u001b[0m\u001b[48;5;184mammunition \u001b[0m\u001b[48;5;178ma \u001b[0m\u001b[48;5;184mthe \u001b[0m\u001b[48;5;184mbuilding \u001b[0m\u001b[48;5;184mwas \u001b[0m\u001b[48;5;184mdesigned \u001b[0m\u001b[48;5;184m[MASK] \u001b[0m\u001b[48;5;178mthe \u001b[0m\u001b[48;5;184m@ \u001b[0m\u001b[48;5;184m- \u001b[0m\u001b[48;5;184m@ \u001b[0m\u001b[48;5;184mfoot \u001b[0m\u001b[48;5;184m@ \u001b[0m\u001b[48;5;184m- \u001b[0m\u001b[48;5;184m@ \u001b[0m\u001b[48;5;184mthick \u001b[0m\u001b[48;5;184m( \u001b[0m\u001b[48;5;184m[MASK] \u001b[0m\u001b[48;5;184m@ \u001b[0m\u001b[48;5;178m[MASK] \u001b[0m\u001b[48;5;184m@ \u001b[0m\u001b[48;5;178mlittle \u001b[0m\u001b[48;5;184mm \u001b[0m\u001b[48;5;178mfor \u001b[0m\u001b[48;5;184mexterior \u001b[0m\u001b[48;5;184mwalls \u001b[0m\u001b[48;5;184m. \u001b[0m\u001b[48;5;184mthe \u001b[0m\u001b[48;5;184moriginal \u001b[0m\u001b[48;5;184mplans \u001b[0m\u001b[48;5;184mcalled \u001b[0m\u001b[48;5;184m[MASK] \u001b[0m\u001b[48;5;184mit \u001b[0m\u001b[48;5;184m[MASK] \u001b[0m\u001b[48;5;184mbe \u001b[0m\u001b[48;5;184mbuilt \u001b[0m\u001b[48;5;184mof \u001b[0m\u001b[48;5;184mstone \u001b[0m\u001b[48;5;184m[MASK] \u001b[0m\u001b[48;5;184mhowever \u001b[0m\u001b[48;5;178mwalls \u001b[0m\u001b[48;5;184mmasonry \u001b[0m\u001b[48;5;184mwas \u001b[0m\u001b[48;5;184m[MASK] \u001b[0m\u001b[48;5;184minstead \u001b[0m\u001b[48;5;184m. \u001b[0m\u001b[48;5;184mthe \u001b[0m\u001b[48;5;184markansas \u001b[0m\u001b[48;5;184m[MASK] \u001b[0m\u001b[48;5;178m91 \u001b[0m\u001b[48;5;184mto \u001b[0m\u001b[48;5;184mthe \u001b[0m\u001b[48;5;184mstructure \u001b[0m\u001b[48;5;184mas \u001b[0m\u001b[48;5;184m\" \u001b[0m\u001b[48;5;184mstifled \u001b[0m\u001b[48;5;184msplendid \u001b[0m\u001b[48;5;184mspecimen \u001b[0m\u001b[48;5;184mof \u001b[0m\u001b[48;5;184mmasonry \u001b[0m\u001b[48;5;184m明 \u001b[0m\u001b[48;5;184m. \u001b[0m\u001b[48;5;184m[SEP] \u001b[0m\u001b[48;5;184m[CLS] \u001b[0m\u001b[48;5;184mfor \u001b[0m\u001b[48;5;184mseveral \u001b[0m\u001b[48;5;184m[MASK] \u001b[0m\u001b[48;5;184mthe \u001b[0m\u001b[48;5;184marsenal \u001b[0m\u001b[48;5;178mof \u001b[0m\u001b[48;5;184mwhich \u001b[0m\u001b[48;5;184mwas \u001b[0m\u001b[48;5;184mowned \u001b[0m\u001b[48;5;184mby \u001b[0m\u001b[48;5;184mthe \u001b[0m\u001b[48;5;184mfederal \u001b[0m\u001b[48;5;166mbecame \u001b[0m\u001b[48;5;178mbuildings \u001b[0m\u001b[48;5;184mserved \u001b[0m\u001b[48;5;184mas \u001b[0m\u001b[48;5;184ma \u001b[0m\u001b[48;5;184msimple \u001b[0m\u001b[48;5;184m[MASK] \u001b[0m\u001b[48;5;178m[MASK] \u001b[0m\u001b[48;5;184mand \u001b[0m\u001b[48;5;184mwas \u001b[0m\u001b[48;5;184mstaffed \u001b[0m\u001b[48;5;184m[MASK] \u001b[0m\u001b[48;5;184monly \u001b[0m\u001b[48;5;178mlast \u001b[0m\u001b[48;5;184mhandful \u001b[0m\u001b[48;5;184mof \u001b[0m\u001b[48;5;178m, \u001b[0m\u001b[48;5;184m. \u001b[0m\u001b[48;5;184m[MASK] \u001b[0m\u001b[48;5;184min \u001b[0m\u001b[48;5;184mnovember \u001b[0m\u001b[48;5;184m1860 \u001b[0m\u001b[48;5;184m[MASK] \u001b[0m\u001b[48;5;184mwith \u001b[0m\u001b[48;5;184mthe \u001b[0m\u001b[48;5;184mamerican \u001b[0m\u001b[48;5;184mcivil \u001b[0m\u001b[48;5;184mwar \u001b[0m\u001b[48;5;184mon \u001b[0m\u001b[48;5;184mthe \u001b[0m\u001b[48;5;184mhorizon \u001b[0m\u001b[48;5;178m[MASK] \u001b[0m\u001b[48;5;184ma \u001b[0m\u001b[48;5;184m[MASK] \u001b[0m\u001b[48;5;184mof \u001b[0m\u001b[48;5;184mthe \u001b[0m\u001b[48;5;184msecond \u001b[0m\u001b[48;5;184munited \u001b[0m\u001b[48;5;184mstates \u001b[0m\u001b[48;5;178martillery \u001b[0m\u001b[48;5;178mbuilt \u001b[0m\u001b[48;5;184mconsisting \u001b[0m\u001b[48;5;184mof \u001b[0m\u001b[48;5;184msixty \u001b[0m\u001b[48;5;184m@ \u001b[0m\u001b[48;5;178m[SEP] \u001b[0m\u001b[48;5;184m@ \u001b[0m\u001b[48;5;184mfive \u001b[0m\u001b[48;5;184mmen \u001b[0m\u001b[48;5;178mgovernor \u001b[0m\u001b[48;5;178m[MASK] \u001b[0m\u001b[48;5;184mtransferred \u001b[0m\u001b[48;5;184mto \u001b[0m\u001b[48;5;184mlittle \u001b[0m\u001b[48;5;184mrock \u001b[0m\u001b[48;5;184munder \u001b[0m\u001b[48;5;184mthe \u001b[0m\u001b[48;5;184mcommand \u001b[0m\u001b[48;5;184mof \u001b[0m\u001b[48;5;184mcaptain \u001b[0m\u001b[48;5;184mjames \u001b[0m\u001b[48;5;184m[MASK] \u001b[0m\u001b[48;5;184m##tten \u001b[0m\u001b[48;5;184m. \u001b[0m\n",
      "\n"
     ]
    }
   ],
   "source": [
    "user.print_with_confidence(reconstructed_user_data)"
   ]
  },
  {
   "cell_type": "code",
   "execution_count": 12,
   "id": "7062c422",
   "metadata": {
    "scrolled": false
   },
   "outputs": [
    {
     "name": "stdout",
     "output_type": "stream",
     "text": [
      "\u001b[48;5;190m[CLS] \u001b[0m\u001b[48;5;190mthe \u001b[0m\u001b[48;5;190mtower \u001b[0m\u001b[48;5;190mbuilding \u001b[0m\u001b[48;5;190mof \u001b[0m\u001b[48;5;190mthe \u001b[0m\u001b[48;5;190mlittle \u001b[0m\u001b[48;5;190mrock \u001b[0m\u001b[48;5;190marsenal \u001b[0m\u001b[48;5;190mtransformed \u001b[0m\u001b[48;5;190malso \u001b[0m\u001b[48;5;190mknown \u001b[0m\u001b[48;5;190mas \u001b[0m\u001b[48;5;190mu \u001b[0m\u001b[48;5;190m. \u001b[0m\u001b[48;5;190ms \u001b[0m\u001b[48;5;190m. \u001b[0m\u001b[48;5;190marsenal \u001b[0m\u001b[48;5;190mbuilding \u001b[0m\u001b[48;5;190m[MASK] \u001b[0m\u001b[48;5;190mis \u001b[0m\u001b[48;5;190m[MASK] \u001b[0m\u001b[48;5;190mbuilding \u001b[0m\u001b[48;5;190mlocated \u001b[0m\u001b[48;5;190min \u001b[0m\u001b[48;5;190mmacarthur \u001b[0m\u001b[48;5;190mpark \u001b[0m\u001b[48;5;190m[unused573] \u001b[0m\u001b[48;5;190mdowntown \u001b[0m\u001b[48;5;190mlittle \u001b[0m\u001b[48;5;190mrock \u001b[0m\u001b[48;5;160mlife \u001b[0m\u001b[48;5;190markansas \u001b[0m\u001b[48;5;190m. \u001b[0m\u001b[48;5;160mestablished \u001b[0m\u001b[48;5;190min \u001b[0m\u001b[48;5;190m1840 \u001b[0m\u001b[48;5;160mtower \u001b[0m\u001b[48;5;190mit \u001b[0m\u001b[48;5;190mwas \u001b[0m\u001b[48;5;190mpart \u001b[0m\u001b[48;5;190mof \u001b[0m\u001b[48;5;190mlittle \u001b[0m\u001b[48;5;190mrock \u001b[0m\u001b[48;5;190m##lar \u001b[0m\u001b[48;5;190ms \u001b[0m\u001b[48;5;190mfirst \u001b[0m\u001b[48;5;190m[MASK] \u001b[0m\u001b[48;5;190minstallation \u001b[0m\u001b[48;5;190m. \u001b[0m\u001b[48;5;190msince \u001b[0m\u001b[48;5;190mits \u001b[0m\u001b[48;5;190mdeco \u001b[0m\u001b[48;5;190m##mm \u001b[0m\u001b[48;5;190m##iss \u001b[0m\u001b[48;5;190m##ion \u001b[0m\u001b[48;5;190m##ing \u001b[0m\u001b[48;5;160mhandful \u001b[0m\u001b[48;5;190m[MASK] \u001b[0m\u001b[48;5;160mand \u001b[0m\u001b[48;5;190mbuilding \u001b[0m\u001b[48;5;190mhas \u001b[0m\u001b[48;5;190mhoused \u001b[0m\u001b[48;5;190mtwo \u001b[0m\u001b[48;5;190mmuseums \u001b[0m\u001b[48;5;190m. \u001b[0m\u001b[48;5;190mit \u001b[0m\u001b[48;5;190mwas \u001b[0m\u001b[48;5;190mhome \u001b[0m\u001b[48;5;190mto \u001b[0m\u001b[48;5;190mthe \u001b[0m\u001b[48;5;160mof \u001b[0m\u001b[48;5;190mmuseum \u001b[0m\u001b[48;5;190mof \u001b[0m\u001b[48;5;190mnatural \u001b[0m\u001b[48;5;190mhistory \u001b[0m\u001b[48;5;190mand \u001b[0m\u001b[48;5;190mnavigate \u001b[0m\u001b[48;5;190mfrom \u001b[0m\u001b[48;5;190m1942 \u001b[0m\u001b[48;5;190mto \u001b[0m\u001b[48;5;190m1997 \u001b[0m\u001b[48;5;190m[MASK] \u001b[0m\u001b[48;5;190mthe \u001b[0m\u001b[48;5;190mmacarthur \u001b[0m\u001b[48;5;190mmuseum \u001b[0m\u001b[48;5;190mof \u001b[0m\u001b[48;5;190markansas \u001b[0m\u001b[48;5;190mmilitary \u001b[0m\u001b[48;5;190mhistory \u001b[0m\u001b[48;5;190msince \u001b[0m\u001b[48;5;190m2001 \u001b[0m\u001b[48;5;190m. \u001b[0m\u001b[48;5;190m[MASK] \u001b[0m\u001b[48;5;190mhas \u001b[0m\u001b[48;5;190malso \u001b[0m\u001b[48;5;190mbeen \u001b[0m\u001b[48;5;190mthe \u001b[0m\u001b[48;5;190mheadquarters \u001b[0m\u001b[48;5;190mof \u001b[0m\u001b[48;5;190mthe \u001b[0m\u001b[48;5;190mlittle \u001b[0m\u001b[48;5;190mrock \u001b[0m\u001b[48;5;190mæ \u001b[0m\u001b[48;5;190m##st \u001b[0m\u001b[48;5;190m##hetic \u001b[0m\u001b[48;5;190mclub \u001b[0m\u001b[48;5;190msince \u001b[0m\u001b[48;5;190m1894 \u001b[0m\u001b[48;5;190m. \u001b[0m\u001b[48;5;190m[SEP] \u001b[0m\u001b[48;5;160m[SEP] \u001b[0m\u001b[48;5;190mthe \u001b[0m\u001b[48;5;190mbuilding \u001b[0m\u001b[48;5;190mreceives \u001b[0m\u001b[48;5;190m[MASK] \u001b[0m\u001b[48;5;190mname \u001b[0m\u001b[48;5;190m[MASK] \u001b[0m\u001b[48;5;190m[MASK] \u001b[0m\u001b[48;5;190mdistinct \u001b[0m\u001b[48;5;160markansas \u001b[0m\u001b[48;5;190mtower \u001b[0m\u001b[48;5;190m. \u001b[0m\u001b[48;5;190mbesides \u001b[0m\u001b[48;5;190m[MASK] \u001b[0m\u001b[48;5;190mthe \u001b[0m\u001b[48;5;160mworld \u001b[0m\u001b[48;5;190mremaining \u001b[0m\u001b[48;5;190mstructure \u001b[0m\u001b[48;5;190mof \u001b[0m\u001b[48;5;190mthe \u001b[0m\u001b[48;5;190moriginal \u001b[0m\u001b[48;5;190m[MASK] \u001b[0m\u001b[48;5;190mrock \u001b[0m\u001b[48;5;190marsenal \u001b[0m\u001b[48;5;190mand \u001b[0m\u001b[48;5;190mone \u001b[0m\u001b[48;5;190mof \u001b[0m\u001b[48;5;190mthe \u001b[0m\u001b[48;5;190moldest \u001b[0m\u001b[48;5;190mbuildings \u001b[0m\u001b[48;5;190min \u001b[0m\u001b[48;5;190mcentral \u001b[0m\u001b[48;5;190markansas \u001b[0m\u001b[48;5;160mwho \u001b[0m\u001b[48;5;190mit \u001b[0m\u001b[48;5;190mwas \u001b[0m\u001b[48;5;190m[MASK] \u001b[0m\u001b[48;5;160mreferred \u001b[0m\u001b[48;5;190mbirthplace \u001b[0m\u001b[48;5;190mof \u001b[0m\u001b[48;5;190mgeneral \u001b[0m\u001b[48;5;190mdouglas \u001b[0m\u001b[48;5;190mmacarthur \u001b[0m\u001b[48;5;190m, \u001b[0m\u001b[48;5;190mwho \u001b[0m\u001b[48;5;160m. \u001b[0m\u001b[48;5;190mthe \u001b[0m\u001b[48;5;190msupreme \u001b[0m\u001b[48;5;190mcommander \u001b[0m\u001b[48;5;190mof \u001b[0m\u001b[48;5;190mus \u001b[0m\u001b[48;5;190mforces \u001b[0m\u001b[48;5;190min \u001b[0m\u001b[48;5;190mthe \u001b[0m\u001b[48;5;190m[MASK] \u001b[0m\u001b[48;5;190m[MASK] \u001b[0m\u001b[48;5;190mduring \u001b[0m\u001b[48;5;160mplace \u001b[0m\u001b[48;5;190mwar \u001b[0m\u001b[48;5;190mii \u001b[0m\u001b[48;5;190m. \u001b[0m\u001b[48;5;190mit \u001b[0m\u001b[48;5;190mwas \u001b[0m\u001b[48;5;190malso \u001b[0m\u001b[48;5;190mthe \u001b[0m\u001b[48;5;190mstarting \u001b[0m\u001b[48;5;160malso \u001b[0m\u001b[48;5;190mof \u001b[0m\u001b[48;5;190mthe \u001b[0m\u001b[48;5;190mcamden \u001b[0m\u001b[48;5;190mexpedition \u001b[0m\u001b[48;5;190m[MASK] \u001b[0m\u001b[48;5;190min \u001b[0m\u001b[48;5;190m2011 \u001b[0m\u001b[48;5;190mit \u001b[0m\u001b[48;5;190mwas \u001b[0m\u001b[48;5;190m[MASK] \u001b[0m\u001b[48;5;190mas \u001b[0m\u001b[48;5;190mone \u001b[0m\u001b[48;5;190mof \u001b[0m\u001b[48;5;190mthe \u001b[0m\u001b[48;5;190mtop \u001b[0m\u001b[48;5;190m10 \u001b[0m\u001b[48;5;190mattractions \u001b[0m\u001b[48;5;190min \u001b[0m\u001b[48;5;160m, \u001b[0m\u001b[48;5;190mstate \u001b[0m\u001b[48;5;160mresponse \u001b[0m\u001b[48;5;190markansas \u001b[0m\u001b[48;5;190mby \u001b[0m\u001b[48;5;190m[MASK] \u001b[0m\u001b[48;5;190mun \u001b[0m\u001b[48;5;190m[MASK] \u001b[0m\u001b[48;5;190m[MASK] \u001b[0m\u001b[48;5;190m[SEP] \u001b[0m\u001b[48;5;190m[CLS] \u001b[0m\u001b[48;5;190mthe \u001b[0m\u001b[48;5;190marsenal \u001b[0m\u001b[48;5;190mwas \u001b[0m\u001b[48;5;190mconstructed \u001b[0m\u001b[48;5;190mat \u001b[0m\u001b[48;5;190mthe \u001b[0m\u001b[48;5;190mrequest \u001b[0m\u001b[48;5;190mof \u001b[0m\u001b[48;5;160m- \u001b[0m\u001b[48;5;190mjames \u001b[0m\u001b[48;5;190mse \u001b[0m\u001b[48;5;190m[MASK] \u001b[0m\u001b[48;5;190m[MASK] \u001b[0m\u001b[48;5;190min \u001b[0m\u001b[48;5;160m[MASK] \u001b[0m\u001b[48;5;190mto \u001b[0m\u001b[48;5;190m[MASK] \u001b[0m\u001b[48;5;190mperceived \u001b[0m\u001b[48;5;190mdangers \u001b[0m\u001b[48;5;190mof \u001b[0m\u001b[48;5;190mfrontier \u001b[0m\u001b[48;5;190mlife \u001b[0m\u001b[48;5;190mand \u001b[0m\u001b[48;5;190mfears \u001b[0m\u001b[48;5;190mof \u001b[0m\u001b[48;5;190mthe \u001b[0m\u001b[48;5;190mmany \u001b[0m\u001b[48;5;190mnative \u001b[0m\u001b[48;5;190mamericans \u001b[0m\u001b[48;5;160m, \u001b[0m\u001b[48;5;190mwere \u001b[0m\u001b[48;5;190mpassing \u001b[0m\u001b[48;5;190mthrough \u001b[0m\u001b[48;5;190mthe \u001b[0m\u001b[48;5;190mstate \u001b[0m\u001b[48;5;190mon \u001b[0m\u001b[48;5;190mtheir \u001b[0m\u001b[48;5;190mway \u001b[0m\u001b[48;5;190m[MASK] \u001b[0m\u001b[48;5;190mthe \u001b[0m\u001b[48;5;190mnewly \u001b[0m\u001b[48;5;190mestablished \u001b[0m\u001b[48;5;190moklahoma \u001b[0m\u001b[48;5;190mterritory \u001b[0m\u001b[48;5;190m[MASK] \u001b[0m\u001b[48;5;190mthirty \u001b[0m\u001b[48;5;190m@ \u001b[0m\u001b[48;5;190m- \u001b[0m\u001b[48;5;190m@ \u001b[0m\u001b[48;5;190msix \u001b[0m\u001b[48;5;190macres \u001b[0m\u001b[48;5;190mwere \u001b[0m\u001b[48;5;190mappropriated \u001b[0m\u001b[48;5;190m[MASK] \u001b[0m\u001b[48;5;190mthe \u001b[0m\u001b[48;5;190moutskirts \u001b[0m\u001b[48;5;190mof \u001b[0m\u001b[48;5;190mlittle \u001b[0m\u001b[48;5;190mrock \u001b[0m\u001b[48;5;190mby \u001b[0m\u001b[48;5;190mmajor \u001b[0m\u001b[48;5;190mrobert \u001b[0m\u001b[48;5;190m[MASK] \u001b[0m\u001b[48;5;190m. \u001b[0m\u001b[48;5;190mlee \u001b[0m\u001b[48;5;190mof \u001b[0m\u001b[48;5;190mthe \u001b[0m\u001b[48;5;190mu \u001b[0m\u001b[48;5;190mdilemma \u001b[0m\u001b[48;5;190ms \u001b[0m\u001b[48;5;190m. \u001b[0m\u001b[48;5;190m[MASK] \u001b[0m\u001b[48;5;190m. \u001b[0m\u001b[48;5;190mthe \u001b[0m\u001b[48;5;190mland \u001b[0m\u001b[48;5;190m[MASK] \u001b[0m\u001b[48;5;190m[MASK] \u001b[0m\u001b[48;5;190mpreviously \u001b[0m\u001b[48;5;190mused \u001b[0m\u001b[48;5;190mas \u001b[0m\u001b[48;5;190m[MASK] \u001b[0m\u001b[48;5;190mracetrack \u001b[0m\u001b[48;5;190mby \u001b[0m\u001b[48;5;190m##ge \u001b[0m\u001b[48;5;190m[MASK] \u001b[0m\u001b[48;5;190mjockey \u001b[0m\u001b[48;5;190mclub \u001b[0m\u001b[48;5;190m. \u001b[0m\u001b[48;5;190mjohn \u001b[0m\u001b[48;5;190mworm \u001b[0m\u001b[48;5;190m##ley \u001b[0m\u001b[48;5;190mwalker \u001b[0m\u001b[48;5;160m[MASK] \u001b[0m\u001b[48;5;190ma \u001b[0m\u001b[48;5;190mbuilder \u001b[0m\u001b[48;5;190mfor \u001b[0m\u001b[48;5;190mthe \u001b[0m\u001b[48;5;190mfederal \u001b[0m\u001b[48;5;190mgovernment \u001b[0m\u001b[48;5;160mhorizon \u001b[0m\u001b[48;5;190msupervised \u001b[0m\u001b[48;5;190mthe \u001b[0m\u001b[48;5;190m[MASK] \u001b[0m\u001b[48;5;190m. \u001b[0m\u001b[48;5;190moriginally \u001b[0m\u001b[48;5;190m$ \u001b[0m\u001b[48;5;190m14 \u001b[0m\u001b[48;5;190m[MASK] \u001b[0m\u001b[48;5;160mwas \u001b[0m\u001b[48;5;190m@ \u001b[0m\u001b[48;5;190m000 \u001b[0m\u001b[48;5;190mwas \u001b[0m\u001b[48;5;190mallocated \u001b[0m\u001b[48;5;190mfor \u001b[0m\u001b[48;5;190mthe \u001b[0m\u001b[48;5;190mconstruction \u001b[0m\u001b[48;5;190mof \u001b[0m\u001b[48;5;190mthe \u001b[0m\u001b[48;5;190marsenal \u001b[0m\u001b[48;5;160mfirst \u001b[0m\u001b[48;5;190mbut \u001b[0m\u001b[48;5;160mlater \u001b[0m\u001b[48;5;190m[MASK] \u001b[0m\u001b[48;5;190m. \u001b[0m\u001b[48;5;190m[MASK] \u001b[0m\u001b[48;5;190m[MASK] \u001b[0m\u001b[48;5;190mwas \u001b[0m\u001b[48;5;190mlater \u001b[0m\u001b[48;5;190mincreased \u001b[0m\u001b[48;5;190mto \u001b[0m\u001b[48;5;160mdilemma \u001b[0m\u001b[48;5;190m30 \u001b[0m\u001b[48;5;190m[MASK] \u001b[0m\u001b[48;5;160m##ge \u001b[0m\u001b[48;5;190m@ \u001b[0m\u001b[48;5;190m[MASK] \u001b[0m\u001b[48;5;190m. \u001b[0m\u001b[48;5;190mwork \u001b[0m\u001b[48;5;190mbegan \u001b[0m\u001b[48;5;190mon \u001b[0m\u001b[48;5;190m[MASK] \u001b[0m\u001b[48;5;190mtower \u001b[0m\u001b[48;5;190mbuilding \u001b[0m\u001b[48;5;190min \u001b[0m\u001b[48;5;190m1840 \u001b[0m\u001b[48;5;190m[MASK] \u001b[0m\u001b[48;5;160m明 \u001b[0m\u001b[48;5;190mit \u001b[0m\u001b[48;5;190mwas \u001b[0m\u001b[48;5;190mthe \u001b[0m\u001b[48;5;190mfirst \u001b[0m\u001b[48;5;190mpermanent \u001b[0m\u001b[48;5;190mstructure \u001b[0m\u001b[48;5;190mof \u001b[0m\u001b[48;5;190mthe \u001b[0m\u001b[48;5;190m[MASK] \u001b[0m\u001b[48;5;160msoldiers \u001b[0m\u001b[48;5;190mbe \u001b[0m\u001b[48;5;190mbuilt \u001b[0m\u001b[48;5;190m. \u001b[0m\u001b[48;5;190mbeing \u001b[0m\u001b[48;5;190moriginally \u001b[0m\u001b[48;5;190mconstructed \u001b[0m\u001b[48;5;190mto \u001b[0m\u001b[48;5;190mstore \u001b[0m\u001b[48;5;190mammunition \u001b[0m\u001b[48;5;160ma \u001b[0m\u001b[48;5;190mthe \u001b[0m\u001b[48;5;190mbuilding \u001b[0m\u001b[48;5;190mwas \u001b[0m\u001b[48;5;190mdesigned \u001b[0m\u001b[48;5;190m[MASK] \u001b[0m\u001b[48;5;160mthe \u001b[0m\u001b[48;5;190m@ \u001b[0m\u001b[48;5;190m- \u001b[0m\u001b[48;5;190m@ \u001b[0m\u001b[48;5;190mfoot \u001b[0m\u001b[48;5;190m@ \u001b[0m\u001b[48;5;190m- \u001b[0m\u001b[48;5;190m@ \u001b[0m\u001b[48;5;190mthick \u001b[0m\u001b[48;5;190m( \u001b[0m\u001b[48;5;190m[MASK] \u001b[0m\u001b[48;5;190m@ \u001b[0m\u001b[48;5;160m[MASK] \u001b[0m\u001b[48;5;190m@ \u001b[0m\u001b[48;5;160mlittle \u001b[0m\u001b[48;5;190mm \u001b[0m\u001b[48;5;160mfor \u001b[0m\u001b[48;5;190mexterior \u001b[0m\u001b[48;5;190mwalls \u001b[0m\u001b[48;5;190m. \u001b[0m\u001b[48;5;190mthe \u001b[0m\u001b[48;5;190moriginal \u001b[0m\u001b[48;5;190mplans \u001b[0m\u001b[48;5;190mcalled \u001b[0m\u001b[48;5;190m[MASK] \u001b[0m\u001b[48;5;190mit \u001b[0m\u001b[48;5;190m[MASK] \u001b[0m\u001b[48;5;190mbe \u001b[0m\u001b[48;5;190mbuilt \u001b[0m\u001b[48;5;190mof \u001b[0m\u001b[48;5;190mstone \u001b[0m\u001b[48;5;190m[MASK] \u001b[0m\u001b[48;5;190mhowever \u001b[0m\u001b[48;5;160mwalls \u001b[0m\u001b[48;5;190mmasonry \u001b[0m\u001b[48;5;190mwas \u001b[0m\u001b[48;5;190m[MASK] \u001b[0m\u001b[48;5;190minstead \u001b[0m\u001b[48;5;190m. \u001b[0m\u001b[48;5;190mthe \u001b[0m\u001b[48;5;190markansas \u001b[0m\u001b[48;5;190m[MASK] \u001b[0m\u001b[48;5;160m91 \u001b[0m\u001b[48;5;190mto \u001b[0m\u001b[48;5;190mthe \u001b[0m\u001b[48;5;190mstructure \u001b[0m\u001b[48;5;190mas \u001b[0m\u001b[48;5;190m\" \u001b[0m\u001b[48;5;190mstifled \u001b[0m\u001b[48;5;190msplendid \u001b[0m\u001b[48;5;190mspecimen \u001b[0m\u001b[48;5;190mof \u001b[0m\u001b[48;5;190mmasonry \u001b[0m\u001b[48;5;190m明 \u001b[0m\u001b[48;5;190m. \u001b[0m\u001b[48;5;190m[SEP] \u001b[0m\u001b[48;5;190m[CLS] \u001b[0m\u001b[48;5;190mfor \u001b[0m\u001b[48;5;190mseveral \u001b[0m\u001b[48;5;190m[MASK] \u001b[0m\u001b[48;5;190mthe \u001b[0m\u001b[48;5;190marsenal \u001b[0m\u001b[48;5;160mof \u001b[0m\u001b[48;5;190mwhich \u001b[0m\u001b[48;5;190mwas \u001b[0m\u001b[48;5;190mowned \u001b[0m\u001b[48;5;190mby \u001b[0m\u001b[48;5;190mthe \u001b[0m\u001b[48;5;190mfederal \u001b[0m\u001b[48;5;160mbecame \u001b[0m\u001b[48;5;160mbuildings \u001b[0m\u001b[48;5;190mserved \u001b[0m\u001b[48;5;190mas \u001b[0m\u001b[48;5;190ma \u001b[0m\u001b[48;5;190msimple \u001b[0m\u001b[48;5;190m[MASK] \u001b[0m\u001b[48;5;160m[MASK] \u001b[0m\u001b[48;5;190mand \u001b[0m\u001b[48;5;190mwas \u001b[0m\u001b[48;5;190mstaffed \u001b[0m\u001b[48;5;190m[MASK] \u001b[0m\u001b[48;5;190monly \u001b[0m\u001b[48;5;160mlast \u001b[0m\u001b[48;5;190mhandful \u001b[0m\u001b[48;5;190mof \u001b[0m\u001b[48;5;160m, \u001b[0m\u001b[48;5;190m. \u001b[0m\u001b[48;5;190m[MASK] \u001b[0m\u001b[48;5;190min \u001b[0m\u001b[48;5;190mnovember \u001b[0m\u001b[48;5;190m1860 \u001b[0m\u001b[48;5;190m[MASK] \u001b[0m\u001b[48;5;190mwith \u001b[0m\u001b[48;5;190mthe \u001b[0m\u001b[48;5;190mamerican \u001b[0m\u001b[48;5;190mcivil \u001b[0m\u001b[48;5;190mwar \u001b[0m\u001b[48;5;190mon \u001b[0m\u001b[48;5;190mthe \u001b[0m\u001b[48;5;190mhorizon \u001b[0m\u001b[48;5;160m[MASK] \u001b[0m\u001b[48;5;190ma \u001b[0m\u001b[48;5;190m[MASK] \u001b[0m\u001b[48;5;190mof \u001b[0m\u001b[48;5;190mthe \u001b[0m\u001b[48;5;190msecond \u001b[0m\u001b[48;5;190munited \u001b[0m\u001b[48;5;190mstates \u001b[0m\u001b[48;5;190martillery \u001b[0m\u001b[48;5;160mbuilt \u001b[0m\u001b[48;5;190mconsisting \u001b[0m\u001b[48;5;190mof \u001b[0m\u001b[48;5;190msixty \u001b[0m\u001b[48;5;190m@ \u001b[0m\u001b[48;5;160m[SEP] \u001b[0m\u001b[48;5;190m@ \u001b[0m\u001b[48;5;190mfive \u001b[0m\u001b[48;5;190mmen \u001b[0m\u001b[48;5;160mgovernor \u001b[0m\u001b[48;5;160m[MASK] \u001b[0m\u001b[48;5;190mtransferred \u001b[0m\u001b[48;5;190mto \u001b[0m\u001b[48;5;190mlittle \u001b[0m\u001b[48;5;190mrock \u001b[0m\u001b[48;5;190munder \u001b[0m\u001b[48;5;190mthe \u001b[0m\u001b[48;5;190mcommand \u001b[0m\u001b[48;5;190mof \u001b[0m\u001b[48;5;190mcaptain \u001b[0m\u001b[48;5;190mjames \u001b[0m\u001b[48;5;190m[MASK] \u001b[0m\u001b[48;5;190m##tten \u001b[0m\u001b[48;5;190m. \u001b[0m\n",
      "\n"
     ]
    }
   ],
   "source": [
    "user.print_and_mark_correct(reconstructed_user_data, true_user_data)"
   ]
  },
  {
   "cell_type": "markdown",
   "id": "04adeafc",
   "metadata": {},
   "source": [
    "### Notes:\n",
    "* There are a variety of hyperparameters to the attack which are set to reasonable defaults. Performance of the attack could be improved in some unusual use cases (datasets or models) by tuning these parameters further.\n",
    "* In this example, dropout is disabled under the assumption that this is a parameter that can be controlled in the server update. The optimal attack simply disables dropout. However, the attack can still succeed when dropout is enforced by the user, albeit with a minor loss in reconstruction quality.\n",
    "* This example also assumes complete freedom to choose the parameter vector, for this reason we circumvent the smooth part of the GELU activation with a \"very\" large measurement vector magnitude. This is arguably excessive for only a small gain in accuracy. A similar argument can be made for the default softmax skew value.\n",
    "* We also want to re-emphasize that the design space of these parameter modification attacks is large. A defense against the specific parameter modification described here is unlikely to be safe in general!\n",
    "* Token recovery is much easier when the embedding is randomly initialized. Here we explicitely re-initialize the BERT embedding to improve label accuracy.\n",
    "* The embedding gradient is not strictly necessary for the attack. The attack can also be run with `token_strategy=None`, in which case the embedding gradient is entirely disregarded (and does not have to be learnable).\n",
    "* In our setup it made the most sense to consider the `[MASK]` tokens as part of the input (and this is also how the metrics are scored). However, the contents of the masked values are actually also leaked and are retrievable from the gradient of the decoder bias."
   ]
  }
 ],
 "metadata": {
  "kernelspec": {
   "display_name": "Python 3 (ipykernel)",
   "language": "python",
   "name": "python3"
  },
  "language_info": {
   "codemirror_mode": {
    "name": "ipython",
    "version": 3
   },
   "file_extension": ".py",
   "mimetype": "text/x-python",
   "name": "python",
   "nbconvert_exporter": "python",
   "pygments_lexer": "ipython3",
   "version": "3.9.12"
  }
 },
 "nbformat": 4,
 "nbformat_minor": 5
}
