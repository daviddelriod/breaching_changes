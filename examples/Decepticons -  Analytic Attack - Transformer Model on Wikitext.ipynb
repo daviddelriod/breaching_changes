{
 "cells": [
  {
   "cell_type": "markdown",
   "id": "3ebef44a",
   "metadata": {},
   "source": [
    "# Decepticons: Corrupted Transformers Breach Privacy in Federated Learning for Language Models"
   ]
  },
  {
   "cell_type": "markdown",
   "id": "a756fc5f",
   "metadata": {},
   "source": [
    "This notebook shows an example for the threat model and attack described in \"Decepticons: Corrupted Transformers Breach Privacy in Federated Learning for Language Models\n",
    "\". This example deviates from the other \"honest-but-curious\" server models and investigates a malicious server that may send malicious server updates. The attack succeeds for a range of common transformer architectures and works merely by sending a single malicious query to the user model.\n",
    "\n",
    "In this notebook, we attack the tiny transformer model discussed in \"Advances and Open Problems in Federated Learning\" (https://arxiv.org/abs/1912.04977). The model architecture is unchanged.\n",
    "\n",
    "\n",
    "\n",
    "Paper URL: https://arxiv.org/abs/2201.12675"
   ]
  },
  {
   "cell_type": "markdown",
   "id": "1efd1107",
   "metadata": {},
   "source": [
    "### Abstract:\n",
    "A central tenet of Federated learning (FL), which trains models without centralizing user data, is privacy. However, previous work has shown that the gradient updates used in FL can leak user information. While the most industrial uses of FL are for text applications (e.g. keystroke prediction), nearly all attacks on FL privacy have focused on simple image classifiers. We propose a novel attack that reveals private user text by deploying malicious parameter vectors, and which succeeds even with mini-batches, multiple users, and long sequences. Unlike previous attacks on FL, the attack exploits characteristics of both the Transformer architecture and the token embedding, separately extracting tokens and positional embeddings to retrieve high-fidelity text. This work suggests that FL on text, which has historically been resistant to privacy attacks, is far more vulnerable than previously thought."
   ]
  },
  {
   "cell_type": "markdown",
   "id": "ce7676c5",
   "metadata": {},
   "source": [
    "### Startup"
   ]
  },
  {
   "cell_type": "code",
   "execution_count": 1,
   "id": "b850eabf",
   "metadata": {},
   "outputs": [],
   "source": [
    "try:\n",
    "    import breaching\n",
    "except ModuleNotFoundError:\n",
    "    # You only really need this safety net if you want to run these notebooks directly in the examples directory\n",
    "    # Don't worry about this if you installed the package or moved the notebook to the main directory.\n",
    "    import os; os.chdir(\"..\")\n",
    "    import breaching\n",
    "    \n",
    "import torch\n",
    "%load_ext autoreload\n",
    "%autoreload 2\n",
    "\n",
    "# Redirects logs directly into the jupyter notebook\n",
    "import logging, sys\n",
    "logging.basicConfig(level=logging.INFO, handlers=[logging.StreamHandler(sys.stdout)], format='%(message)s')\n",
    "logger = logging.getLogger()"
   ]
  },
  {
   "cell_type": "markdown",
   "id": "88d5e214",
   "metadata": {},
   "source": [
    "### Initialize cfg object and system setup:"
   ]
  },
  {
   "cell_type": "markdown",
   "id": "56bd663b",
   "metadata": {},
   "source": [
    "This will load the full configuration object. This includes the configuration for the use case and threat model as `cfg.case` and the hyperparameters and implementation of the attack as `cfg.attack`. All parameters can be modified below, or overriden with `overrides=` as if they were cmd-line arguments."
   ]
  },
  {
   "cell_type": "code",
   "execution_count": 2,
   "id": "a7dc3a48",
   "metadata": {},
   "outputs": [
    {
     "name": "stdout",
     "output_type": "stream",
     "text": [
      "Investigating use case causal_lang_training with server type malicious_transformer_parameters.\n"
     ]
    },
    {
     "data": {
      "text/plain": [
       "{'device': device(type='cpu'), 'dtype': torch.float32}"
      ]
     },
     "execution_count": 2,
     "metadata": {},
     "output_type": "execute_result"
    }
   ],
   "source": [
    "cfg = breaching.get_config(overrides=[\"attack=decepticon\", \"case=10_causal_lang_training\", \n",
    "                                     \"case/server=malicious-transformer\", \"case/data=wikitext\"])\n",
    "          \n",
    "device = torch.device('cpu')\n",
    "torch.backends.cudnn.benchmark = cfg.case.impl.benchmark\n",
    "setup = dict(device=device, dtype=getattr(torch, cfg.case.impl.dtype))\n",
    "setup"
   ]
  },
  {
   "cell_type": "markdown",
   "id": "203c5fb1",
   "metadata": {},
   "source": [
    "### Modify config options here"
   ]
  },
  {
   "cell_type": "markdown",
   "id": "6e0764ef",
   "metadata": {},
   "source": [
    "You can use `.attribute` access to modify any of these configurations for the attack, or the case:"
   ]
  },
  {
   "cell_type": "code",
   "execution_count": 3,
   "id": "ac118ea0",
   "metadata": {},
   "outputs": [],
   "source": [
    "cfg.case.user.num_data_points = 8 # How many sentences?\n",
    "cfg.case.user.user_idx = 1 # From which user?\n",
    "cfg.case.data.shape = [32] # This is the sequence length\n",
    "\n",
    "cfg.case.server.has_external_data = False  # ext data is not strictly necessary\n",
    "# cfg.case.data.tokenizer = \"word-level\"\n",
    "\n",
    "cfg.attack.matcher = \"corrcoef\"\n",
    "# Attack hyperparameters:\n",
    "\n",
    "# this option requires installation of `k-means-constrained` which can be tricky:\n",
    "# If this doesn't work for you, falling back to \"dynamic-threshold\" is still a decent option.\n",
    "cfg.attack.sentence_algorithm = \"k-means\" "
   ]
  },
  {
   "cell_type": "markdown",
   "id": "76f64389",
   "metadata": {},
   "source": [
    "### Instantiate all parties"
   ]
  },
  {
   "cell_type": "markdown",
   "id": "71983edf",
   "metadata": {},
   "source": [
    "The following lines generate \"server, \"user\" and \"attacker\" objects and print an overview of their configurations."
   ]
  },
  {
   "cell_type": "code",
   "execution_count": 4,
   "id": "d3abd955",
   "metadata": {},
   "outputs": [
    {
     "name": "stdout",
     "output_type": "stream",
     "text": [
      "Reusing dataset wikitext (/home/jonas/data/wikitext/wikitext-103-v1/1.0.0/a241db52902eaf2c6aa732210bead40c090019a499ceb13bcbfa3f8ab646a126)\n",
      "Model architecture transformer3 loaded with 10,800,433 parameters and 0 buffers.\n",
      "Overall this is a data ratio of   42189:1 for target shape [8, 32] given that num_queries=1.\n",
      "User (of type UserSingleStep) with settings:\n",
      "    Number of data points: 8\n",
      "\n",
      "    Threat model:\n",
      "    User provides labels: False\n",
      "    User provides buffers: False\n",
      "    User provides number of data points: True\n",
      "\n",
      "    Data:\n",
      "    Dataset: wikitext\n",
      "    user: 1\n",
      "    \n",
      "        \n",
      "Server (of type MaliciousTransformerServer) with settings:\n",
      "    Threat model: Malicious (Parameters)\n",
      "    Number of planned queries: 1\n",
      "    Has external/public data: False\n",
      "\n",
      "    Model:\n",
      "        model specification: transformer3\n",
      "        model state: default\n",
      "        \n",
      "\n",
      "    Secrets: {}\n",
      "    \n",
      "Attacker (of type DecepticonAttacker).\n"
     ]
    }
   ],
   "source": [
    "user, server, model, loss_fn = breaching.cases.construct_case(cfg.case, setup)\n",
    "attacker = breaching.attacks.prepare_attack(server.model, server.loss, cfg.attack, setup)\n",
    "breaching.utils.overview(server, user, attacker)"
   ]
  },
  {
   "cell_type": "markdown",
   "id": "548c0ad6",
   "metadata": {},
   "source": [
    "### Simulate an attacked FL protocol"
   ]
  },
  {
   "cell_type": "markdown",
   "id": "2058bcc2",
   "metadata": {},
   "source": [
    "This exchange is a simulation of a single query in a federated learning protocol. The server sends out a `server_payload` and the user computes an update based on their private local data. This user update is `shared_data` and contains, for example, the parameter gradient of the model in the simplest case. `true_user_data` is also returned by `.compute_local_updates`, but of course not forwarded to the server or attacker and only used for (our) analysis."
   ]
  },
  {
   "cell_type": "code",
   "execution_count": 5,
   "id": "b0dbd868",
   "metadata": {},
   "outputs": [
    {
     "name": "stdout",
     "output_type": "stream",
     "text": [
      "Found attention of shape torch.Size([288, 96]).\n",
      "Computing feature distribution before the probe layer Linear(in_features=96, out_features=1536, bias=True) from random tokens.\n",
      "Feature mean is -0.34829866886138916, feature std is 1.1387989521026611.\n",
      "Computing user update on user 1 in model mode: eval.\n"
     ]
    }
   ],
   "source": [
    "server_payload = server.distribute_payload()\n",
    "shared_data, true_user_data = user.compute_local_updates(server_payload)  "
   ]
  },
  {
   "cell_type": "code",
   "execution_count": 6,
   "id": "49c68628",
   "metadata": {
    "scrolled": false
   },
   "outputs": [
    {
     "name": "stdout",
     "output_type": "stream",
     "text": [
      " The Tower Building of the Little Rock Arsenal, also known as U.S. Arsenal Building, is a building located in MacArthur Park in downtown Little Rock, Arkansas\n",
      ". Built in 1840, it was part of Little Rock's first military installation. Since its decommissioning, The Tower Building has housed two museums. It\n",
      " was home to the Arkansas Museum of Natural History and Antiquities from 1942 to 1997 and the MacArthur Museum of Arkansas Military History since 2001. It has also been the\n",
      " headquarters of the Little Rock Æsthetic Club since 1894. \n",
      " The building receives its name from its distinct octagonal tower. Besides being the last\n",
      " remaining structure of the original Little Rock Arsenal and one of the oldest buildings in central Arkansas, it was also the birthplace of General Douglas MacArthur, who became the supreme\n",
      " commander of US forces in the South Pacific during World War II. It was also the starting place of the Camden Expedition. In 2011 it was named as one of\n",
      " the top 10 attractions in the state of Arkansas by <unk> \n",
      " The arsenal was constructed at the request of Governor James Sevier Conway in response to the\n",
      " perceived dangers of frontier life and fears of the many Native Americans who were passing through the state on their way to the newly established Oklahoma Territory. Thirty @-@\n"
     ]
    }
   ],
   "source": [
    "user.print(true_user_data)"
   ]
  },
  {
   "cell_type": "markdown",
   "id": "17255c5a",
   "metadata": {},
   "source": [
    "### Reconstruct user data:"
   ]
  },
  {
   "cell_type": "markdown",
   "id": "d93e8cd6",
   "metadata": {},
   "source": [
    "Now we launch the attack, reconstructing user data based on only the `server_payload` and the `shared_data`. \n",
    "\n",
    "For this attack, we also share secret information from the malicious server with the attack (`server.secrets`), which here is the location and structure of the imprint block."
   ]
  },
  {
   "cell_type": "code",
   "execution_count": 7,
   "id": "c9a32fd7",
   "metadata": {
    "scrolled": false
   },
   "outputs": [
    {
     "name": "stdout",
     "output_type": "stream",
     "text": [
      "Recovered tokens tensor([[   12,    13,    29,    31,    50,    82,   198,   220,   228,   257,\n",
      "           262,   278,   284,   286,   287,   290,   301,   318,   319,   340,\n",
      "           355,   373,   379,   383,   416,   422,   468,   471,   508,   511,\n",
      "           530,   547],\n",
      "        [  554,   587,   632,   635,   636,   663,   705,   717,   734,   764,\n",
      "           832,   835,   837,   838,   852,   867,   871,   938,   959,  1141,\n",
      "          1181,  1201,  1204,  1248,  1279,  1294,  1295,  1353,  1363,  1438,\n",
      "          1810,  1900],\n",
      "        [ 2159,  2422,  2488,  2520,  2581,  2615,  2627,  2656,  2813,  2873,\n",
      "          2882,  2954,  3250,  3386,  3399,  3411,  3599,  3611,  3700,  3706,\n",
      "          4318,  4619,  4631,  4645,  4920,  5140,  5824,  5878,  6184,  6289,\n",
      "          6427,  6587],\n",
      "        [ 6832,  7310,  7443,  7703,  8211,  8308,  8309,  8765,  9436,  9594,\n",
      "          9988, 10251, 10433, 10580, 10807, 11583, 11819, 12006, 12068, 12547,\n",
      "         12842, 13325, 13837, 14538, 15796, 16169, 16238, 17700, 19318, 22458,\n",
      "         23707, 24375],\n",
      "        [  262,   262,   262,   262,   262,   262,   262,   262,   286,   286,\n",
      "           286,   286,  5637, 10043, 11067, 11561, 25219, 26608, 26969, 27580,\n",
      "         27923, 28477, 29156, 29948, 30794, 37918, 38076, 43084, 46626, 47784,\n",
      "         47789, 48145],\n",
      "        [  262,   262,   262,   262,   262,   262,   262,   262,   286,   286,\n",
      "           286,   286,   286,   286,   286,   286,   287,   287,   287,   287,\n",
      "           373,   764,   764,   764,   764,   764,   837,   837,   837,  4631,\n",
      "          7703, 14538],\n",
      "        [  262,   262,   284,   284,   286,   286,   287,   287,   290,   290,\n",
      "           340,   373,   373,   383,   632,   635,   635,   663,   764,   764,\n",
      "           837,   837,   837,  4631,  4631,  7703,  7703, 11819, 13837, 14538,\n",
      "         14538, 46626],\n",
      "        [   13,   198,   220,   262,   284,   286,   287,   290,   340,   355,\n",
      "           373,   383,   422,   468,   508,   530,   632,   635,   663,   764,\n",
      "          1181,  1201,  2615,  4631,  7443,  7703,  8765,  9594, 11819, 13837,\n",
      "         14538, 46626]]) through strategy decoder-bias.\n",
      "Recovered 234 embeddings with positional data from imprinted layer.\n",
      "Assigned [31, 29, 30, 30, 30, 30, 25, 29] breached embeddings to each sentence.\n",
      "Replaced 8 tokens with avg. corr 0.036058854311704636 with new tokens with avg corr 0.42086759209632874\n"
     ]
    }
   ],
   "source": [
    "reconstructed_user_data, stats = attacker.reconstruct([server_payload], [shared_data], server.secrets, \n",
    "                                                      dryrun=cfg.dryrun)"
   ]
  },
  {
   "cell_type": "markdown",
   "id": "28c35e12",
   "metadata": {},
   "source": [
    "Next we'll evaluate metrics, comparing the `reconstructed_user_data` to the `true_user_data`."
   ]
  },
  {
   "cell_type": "code",
   "execution_count": 8,
   "id": "31f2685a",
   "metadata": {},
   "outputs": [
    {
     "name": "stdout",
     "output_type": "stream",
     "text": [
      "Starting evaluations for attack effectiveness report...\n",
      "Using default tokenizer.\n",
      "METRICS: | Accuracy: 0.8867 | S-BLEU: 0.79 | FMSE: 1.1854e-03 | \n",
      " G-BLEU: 0.76 | ROUGE1: 0.89| ROUGE2: 0.79 | ROUGE-L: 0.88| Token Acc T:96.48%/A:98.82% | Label Acc: 96.48%\n"
     ]
    }
   ],
   "source": [
    "metrics = breaching.analysis.report(reconstructed_user_data, true_user_data, [server_payload], \n",
    "                                    server.model, order_batch=True, compute_full_iip=False, \n",
    "                                    cfg_case=cfg.case, setup=setup)"
   ]
  },
  {
   "cell_type": "markdown",
   "id": "f920aca0",
   "metadata": {},
   "source": [
    "Finally, we also plot the reconstructed data (marking attack confidence):"
   ]
  },
  {
   "cell_type": "code",
   "execution_count": 9,
   "id": "b609a37e",
   "metadata": {
    "scrolled": false
   },
   "outputs": [
    {
     "name": "stdout",
     "output_type": "stream",
     "text": [
      "\u001b[48;5;190m The \u001b[0m\u001b[48;5;190m Tower \u001b[0m\u001b[48;5;190m Building \u001b[0m\u001b[48;5;190m of \u001b[0m\u001b[48;5;190m the \u001b[0m\u001b[48;5;184m in \u001b[0m\u001b[48;5;190m Rock \u001b[0m\u001b[48;5;190m Arsenal \u001b[0m\u001b[48;5;190m, \u001b[0m\u001b[48;5;190m also \u001b[0m\u001b[48;5;190m known \u001b[0m\u001b[48;5;190m as \u001b[0m\u001b[48;5;190m U \u001b[0m\u001b[48;5;190m. \u001b[0m\u001b[48;5;190mS \u001b[0m\u001b[48;5;190m. \u001b[0m\u001b[48;5;190m Arsenal \u001b[0m\u001b[48;5;190m Building \u001b[0m\u001b[48;5;190m, \u001b[0m\u001b[48;5;190m is \u001b[0m\u001b[48;5;184m a \u001b[0m\u001b[48;5;190m building \u001b[0m\u001b[48;5;190m located \u001b[0m\u001b[48;5;190m in \u001b[0m\u001b[48;5;190m MacArthur \u001b[0m\u001b[48;5;190m Park \u001b[0m\u001b[48;5;190m in \u001b[0m\u001b[48;5;190m downtown \u001b[0m\u001b[48;5;190m Little \u001b[0m\u001b[48;5;190m Rock \u001b[0m\u001b[48;5;190m, \u001b[0m\u001b[48;5;160m Dupl \u001b[0m\n",
      "\n",
      "\u001b[48;5;190m. \u001b[0m\u001b[48;5;190m Built \u001b[0m\u001b[48;5;190m in \u001b[0m\u001b[48;5;190m 1840 \u001b[0m\u001b[48;5;190m, \u001b[0m\u001b[48;5;184m in \u001b[0m\u001b[48;5;190m was \u001b[0m\u001b[48;5;190m part \u001b[0m\u001b[48;5;190m of \u001b[0m\u001b[48;5;190m Little \u001b[0m\u001b[48;5;190m Rock \u001b[0m\u001b[48;5;190m ' \u001b[0m\u001b[48;5;190ms \u001b[0m\u001b[48;5;190m first \u001b[0m\u001b[48;5;190m military \u001b[0m\u001b[48;5;190m installation \u001b[0m\u001b[48;5;190m. \u001b[0m\u001b[48;5;190m Since \u001b[0m\u001b[48;5;190m its \u001b[0m\u001b[48;5;190m decom \u001b[0m\u001b[48;5;190mmission \u001b[0m\u001b[48;5;190ming \u001b[0m\u001b[48;5;190m, \u001b[0m\u001b[48;5;190m The \u001b[0m\u001b[48;5;190m Tower \u001b[0m\u001b[48;5;190m Building \u001b[0m\u001b[48;5;190m has \u001b[0m\u001b[48;5;190m housed \u001b[0m\u001b[48;5;190m two \u001b[0m\u001b[48;5;190m museums \u001b[0m\u001b[48;5;190m. \u001b[0m\u001b[48;5;160masse \u001b[0m\n",
      "\n",
      "\u001b[48;5;184m Arkansas \u001b[0m\u001b[48;5;190m home \u001b[0m\u001b[48;5;190m to \u001b[0m\u001b[48;5;184m it \u001b[0m\u001b[48;5;190m Arkansas \u001b[0m\u001b[48;5;190m Museum \u001b[0m\u001b[48;5;190m of \u001b[0m\u001b[48;5;190m Natural \u001b[0m\u001b[48;5;190m History \u001b[0m\u001b[48;5;190m and \u001b[0m\u001b[48;5;190m Antiqu \u001b[0m\u001b[48;5;190mities \u001b[0m\u001b[48;5;190m from \u001b[0m\u001b[48;5;190m 1942 \u001b[0m\u001b[48;5;190m to \u001b[0m\u001b[48;5;190m 1997 \u001b[0m\u001b[48;5;190m and \u001b[0m\u001b[48;5;190m the \u001b[0m\u001b[48;5;190m MacArthur \u001b[0m\u001b[48;5;178m Oklahoma \u001b[0m\u001b[48;5;190m of \u001b[0m\u001b[48;5;190m Arkansas \u001b[0m\u001b[48;5;190m Military \u001b[0m\u001b[48;5;190m History \u001b[0m\u001b[48;5;190m since \u001b[0m\u001b[48;5;190m 2001 \u001b[0m\u001b[48;5;190m. \u001b[0m\u001b[48;5;190m It \u001b[0m\u001b[48;5;190m has \u001b[0m\u001b[48;5;190m also \u001b[0m\u001b[48;5;190m been \u001b[0m\u001b[48;5;160m last \u001b[0m\n",
      "\n",
      "\u001b[48;5;184m It \u001b[0m\u001b[48;5;190m of \u001b[0m\u001b[48;5;190m the \u001b[0m\u001b[48;5;190m Little \u001b[0m\u001b[48;5;190m Rock \u001b[0m\u001b[48;5;190m � \u001b[0m\u001b[48;5;190m� \u001b[0m\u001b[48;5;190mst \u001b[0m\u001b[48;5;190mhetic \u001b[0m\u001b[48;5;178m the \u001b[0m\u001b[48;5;190m since \u001b[0m\u001b[48;5;190m 18 \u001b[0m\u001b[48;5;190m94 \u001b[0m\u001b[48;5;190m. \u001b[0m\u001b[48;5;190m  \u001b[0m\u001b[48;5;190m\n",
      " \u001b[0m\u001b[48;5;178m supreme \u001b[0m\u001b[48;5;190m building \u001b[0m\u001b[48;5;190m receives \u001b[0m\u001b[48;5;190m its \u001b[0m\u001b[48;5;190m name \u001b[0m\u001b[48;5;190m from \u001b[0m\u001b[48;5;190m its \u001b[0m\u001b[48;5;190m distinct \u001b[0m\u001b[48;5;190m oct \u001b[0m\u001b[48;5;190magonal \u001b[0m\u001b[48;5;190m tower \u001b[0m\u001b[48;5;178m Museum \u001b[0m\u001b[48;5;190m Besides \u001b[0m\u001b[48;5;190m being \u001b[0m\u001b[48;5;178m headquarters \u001b[0m\u001b[48;5;160m bumps \u001b[0m\n",
      "\n",
      "\u001b[48;5;190m remaining \u001b[0m\u001b[48;5;190m structure \u001b[0m\u001b[48;5;190m of \u001b[0m\u001b[48;5;190m the \u001b[0m\u001b[48;5;190m original \u001b[0m\u001b[48;5;190m Little \u001b[0m\u001b[48;5;190m Rock \u001b[0m\u001b[48;5;190m Arsenal \u001b[0m\u001b[48;5;190m and \u001b[0m\u001b[48;5;184m one \u001b[0m\u001b[48;5;190m of \u001b[0m\u001b[48;5;190m the \u001b[0m\u001b[48;5;190m oldest \u001b[0m\u001b[48;5;190m buildings \u001b[0m\u001b[48;5;190m in \u001b[0m\u001b[48;5;190m central \u001b[0m\u001b[48;5;190m Arkansas \u001b[0m\u001b[48;5;190m, \u001b[0m\u001b[48;5;190m it \u001b[0m\u001b[48;5;190m was \u001b[0m\u001b[48;5;190m also \u001b[0m\u001b[48;5;190m the \u001b[0m\u001b[48;5;190m birthplace \u001b[0m\u001b[48;5;190m of \u001b[0m\u001b[48;5;190m General \u001b[0m\u001b[48;5;184m the \u001b[0m\u001b[48;5;190m MacArthur \u001b[0m\u001b[48;5;190m, \u001b[0m\u001b[48;5;190m who \u001b[0m\u001b[48;5;178m ebook \u001b[0m\u001b[48;5;178m the \u001b[0m\u001b[48;5;160m437 \u001b[0m\n",
      "\n",
      "\u001b[48;5;190m commander \u001b[0m\u001b[48;5;190m of \u001b[0m\u001b[48;5;190m US \u001b[0m\u001b[48;5;190m forces \u001b[0m\u001b[48;5;190m in \u001b[0m\u001b[48;5;190m the \u001b[0m\u001b[48;5;190m South \u001b[0m\u001b[48;5;190m Pacific \u001b[0m\u001b[48;5;190m during \u001b[0m\u001b[48;5;178m 247 \u001b[0m\u001b[48;5;190m War \u001b[0m\u001b[48;5;190m II \u001b[0m\u001b[48;5;190m. \u001b[0m\u001b[48;5;190m It \u001b[0m\u001b[48;5;190m was \u001b[0m\u001b[48;5;190m also \u001b[0m\u001b[48;5;190m the \u001b[0m\u001b[48;5;190m starting \u001b[0m\u001b[48;5;190m place \u001b[0m\u001b[48;5;190m of \u001b[0m\u001b[48;5;190m the \u001b[0m\u001b[48;5;190m Camden \u001b[0m\u001b[48;5;190m Expedition \u001b[0m\u001b[48;5;190m. \u001b[0m\u001b[48;5;190m In \u001b[0m\u001b[48;5;190m 2011 \u001b[0m\u001b[48;5;190m it \u001b[0m\u001b[48;5;190m was \u001b[0m\u001b[48;5;190m named \u001b[0m\u001b[48;5;190m as \u001b[0m\u001b[48;5;190m one \u001b[0m\u001b[48;5;160m and \u001b[0m\n",
      "\n",
      "\u001b[48;5;190m the \u001b[0m\u001b[48;5;190m top \u001b[0m\u001b[48;5;190m 10 \u001b[0m\u001b[48;5;190m attractions \u001b[0m\u001b[48;5;184m Little \u001b[0m\u001b[48;5;184m in \u001b[0m\u001b[48;5;190m state \u001b[0m\u001b[48;5;178munk \u001b[0m\u001b[48;5;190m Arkansas \u001b[0m\u001b[48;5;190m by \u001b[0m\u001b[48;5;190m < \u001b[0m\u001b[48;5;184m Club \u001b[0m\u001b[48;5;190m> \u001b[0m\u001b[48;5;190m  \u001b[0m\u001b[48;5;190m\n",
      " \u001b[0m\u001b[48;5;190m The \u001b[0m\u001b[48;5;190m arsenal \u001b[0m\u001b[48;5;190m was \u001b[0m\u001b[48;5;190m constructed \u001b[0m\u001b[48;5;190m at \u001b[0m\u001b[48;5;184m became \u001b[0m\u001b[48;5;190m request \u001b[0m\u001b[48;5;190m of \u001b[0m\u001b[48;5;190m Governor \u001b[0m\u001b[48;5;190m James \u001b[0m\u001b[48;5;184m Sev \u001b[0m\u001b[48;5;190mier \u001b[0m\u001b[48;5;190m Conway \u001b[0m\u001b[48;5;178m@ \u001b[0m\u001b[48;5;190m response \u001b[0m\u001b[48;5;190m to \u001b[0m\u001b[48;5;160m proto \u001b[0m\n",
      "\n",
      "\u001b[48;5;190m perceived \u001b[0m\u001b[48;5;190m dangers \u001b[0m\u001b[48;5;190m of \u001b[0m\u001b[48;5;190m frontier \u001b[0m\u001b[48;5;190m life \u001b[0m\u001b[48;5;184m Douglas \u001b[0m\u001b[48;5;190m fears \u001b[0m\u001b[48;5;190m of \u001b[0m\u001b[48;5;190m the \u001b[0m\u001b[48;5;190m many \u001b[0m\u001b[48;5;190m Native \u001b[0m\u001b[48;5;190m Americans \u001b[0m\u001b[48;5;190m who \u001b[0m\u001b[48;5;190m were \u001b[0m\u001b[48;5;190m passing \u001b[0m\u001b[48;5;190m through \u001b[0m\u001b[48;5;190m the \u001b[0m\u001b[48;5;190m state \u001b[0m\u001b[48;5;190m on \u001b[0m\u001b[48;5;190m their \u001b[0m\u001b[48;5;190m way \u001b[0m\u001b[48;5;190m to \u001b[0m\u001b[48;5;190m the \u001b[0m\u001b[48;5;190m newly \u001b[0m\u001b[48;5;190m established \u001b[0m\u001b[48;5;184m Ventures \u001b[0m\u001b[48;5;190m Territory \u001b[0m\u001b[48;5;190m. \u001b[0m\u001b[48;5;190m Thirty \u001b[0m\u001b[48;5;190m @ \u001b[0m\u001b[48;5;190m- \u001b[0m\u001b[48;5;160m. \u001b[0m\n",
      "\n"
     ]
    }
   ],
   "source": [
    "user.print_with_confidence(reconstructed_user_data)"
   ]
  },
  {
   "cell_type": "markdown",
   "id": "57e0c51e",
   "metadata": {},
   "source": [
    "..and compare to the ground truth text:"
   ]
  },
  {
   "cell_type": "code",
   "execution_count": 10,
   "id": "7bba17dc",
   "metadata": {},
   "outputs": [
    {
     "name": "stdout",
     "output_type": "stream",
     "text": [
      "\u001b[48;5;190m The \u001b[0m\u001b[48;5;190m Tower \u001b[0m\u001b[48;5;190m Building \u001b[0m\u001b[48;5;190m of \u001b[0m\u001b[48;5;190m the \u001b[0m\u001b[48;5;160m in \u001b[0m\u001b[48;5;190m Rock \u001b[0m\u001b[48;5;190m Arsenal \u001b[0m\u001b[48;5;190m, \u001b[0m\u001b[48;5;190m also \u001b[0m\u001b[48;5;190m known \u001b[0m\u001b[48;5;190m as \u001b[0m\u001b[48;5;190m U \u001b[0m\u001b[48;5;190m. \u001b[0m\u001b[48;5;190mS \u001b[0m\u001b[48;5;190m. \u001b[0m\u001b[48;5;190m Arsenal \u001b[0m\u001b[48;5;190m Building \u001b[0m\u001b[48;5;190m, \u001b[0m\u001b[48;5;190m is \u001b[0m\u001b[48;5;190m a \u001b[0m\u001b[48;5;190m building \u001b[0m\u001b[48;5;190m located \u001b[0m\u001b[48;5;190m in \u001b[0m\u001b[48;5;190m MacArthur \u001b[0m\u001b[48;5;190m Park \u001b[0m\u001b[48;5;190m in \u001b[0m\u001b[48;5;190m downtown \u001b[0m\u001b[48;5;190m Little \u001b[0m\u001b[48;5;190m Rock \u001b[0m\u001b[48;5;190m, \u001b[0m\u001b[48;5;160m Dupl \u001b[0m\n",
      "\n",
      "\u001b[48;5;190m. \u001b[0m\u001b[48;5;190m Built \u001b[0m\u001b[48;5;190m in \u001b[0m\u001b[48;5;190m 1840 \u001b[0m\u001b[48;5;190m, \u001b[0m\u001b[48;5;160m in \u001b[0m\u001b[48;5;190m was \u001b[0m\u001b[48;5;190m part \u001b[0m\u001b[48;5;190m of \u001b[0m\u001b[48;5;190m Little \u001b[0m\u001b[48;5;190m Rock \u001b[0m\u001b[48;5;190m ' \u001b[0m\u001b[48;5;190ms \u001b[0m\u001b[48;5;190m first \u001b[0m\u001b[48;5;190m military \u001b[0m\u001b[48;5;190m installation \u001b[0m\u001b[48;5;190m. \u001b[0m\u001b[48;5;190m Since \u001b[0m\u001b[48;5;190m its \u001b[0m\u001b[48;5;190m decom \u001b[0m\u001b[48;5;190mmission \u001b[0m\u001b[48;5;190ming \u001b[0m\u001b[48;5;190m, \u001b[0m\u001b[48;5;190m The \u001b[0m\u001b[48;5;190m Tower \u001b[0m\u001b[48;5;190m Building \u001b[0m\u001b[48;5;190m has \u001b[0m\u001b[48;5;190m housed \u001b[0m\u001b[48;5;190m two \u001b[0m\u001b[48;5;190m museums \u001b[0m\u001b[48;5;190m. \u001b[0m\u001b[48;5;160masse \u001b[0m\n",
      "\n",
      "\u001b[48;5;160m Arkansas \u001b[0m\u001b[48;5;190m home \u001b[0m\u001b[48;5;190m to \u001b[0m\u001b[48;5;160m it \u001b[0m\u001b[48;5;190m Arkansas \u001b[0m\u001b[48;5;190m Museum \u001b[0m\u001b[48;5;190m of \u001b[0m\u001b[48;5;190m Natural \u001b[0m\u001b[48;5;190m History \u001b[0m\u001b[48;5;190m and \u001b[0m\u001b[48;5;190m Antiqu \u001b[0m\u001b[48;5;190mities \u001b[0m\u001b[48;5;190m from \u001b[0m\u001b[48;5;190m 1942 \u001b[0m\u001b[48;5;190m to \u001b[0m\u001b[48;5;190m 1997 \u001b[0m\u001b[48;5;190m and \u001b[0m\u001b[48;5;190m the \u001b[0m\u001b[48;5;190m MacArthur \u001b[0m\u001b[48;5;160m Oklahoma \u001b[0m\u001b[48;5;190m of \u001b[0m\u001b[48;5;190m Arkansas \u001b[0m\u001b[48;5;190m Military \u001b[0m\u001b[48;5;190m History \u001b[0m\u001b[48;5;190m since \u001b[0m\u001b[48;5;190m 2001 \u001b[0m\u001b[48;5;190m. \u001b[0m\u001b[48;5;190m It \u001b[0m\u001b[48;5;190m has \u001b[0m\u001b[48;5;190m also \u001b[0m\u001b[48;5;190m been \u001b[0m\u001b[48;5;160m last \u001b[0m\n",
      "\n",
      "\u001b[48;5;160m It \u001b[0m\u001b[48;5;190m of \u001b[0m\u001b[48;5;190m the \u001b[0m\u001b[48;5;190m Little \u001b[0m\u001b[48;5;190m Rock \u001b[0m\u001b[48;5;190m � \u001b[0m\u001b[48;5;190m� \u001b[0m\u001b[48;5;190mst \u001b[0m\u001b[48;5;190mhetic \u001b[0m\u001b[48;5;160m the \u001b[0m\u001b[48;5;190m since \u001b[0m\u001b[48;5;190m 18 \u001b[0m\u001b[48;5;190m94 \u001b[0m\u001b[48;5;190m. \u001b[0m\u001b[48;5;190m  \u001b[0m\u001b[48;5;190m\n",
      " \u001b[0m\u001b[48;5;160m supreme \u001b[0m\u001b[48;5;190m building \u001b[0m\u001b[48;5;190m receives \u001b[0m\u001b[48;5;190m its \u001b[0m\u001b[48;5;190m name \u001b[0m\u001b[48;5;190m from \u001b[0m\u001b[48;5;190m its \u001b[0m\u001b[48;5;190m distinct \u001b[0m\u001b[48;5;190m oct \u001b[0m\u001b[48;5;190magonal \u001b[0m\u001b[48;5;190m tower \u001b[0m\u001b[48;5;160m Museum \u001b[0m\u001b[48;5;190m Besides \u001b[0m\u001b[48;5;190m being \u001b[0m\u001b[48;5;160m headquarters \u001b[0m\u001b[48;5;160m bumps \u001b[0m\n",
      "\n",
      "\u001b[48;5;190m remaining \u001b[0m\u001b[48;5;190m structure \u001b[0m\u001b[48;5;190m of \u001b[0m\u001b[48;5;190m the \u001b[0m\u001b[48;5;190m original \u001b[0m\u001b[48;5;190m Little \u001b[0m\u001b[48;5;190m Rock \u001b[0m\u001b[48;5;190m Arsenal \u001b[0m\u001b[48;5;190m and \u001b[0m\u001b[48;5;190m one \u001b[0m\u001b[48;5;190m of \u001b[0m\u001b[48;5;190m the \u001b[0m\u001b[48;5;190m oldest \u001b[0m\u001b[48;5;190m buildings \u001b[0m\u001b[48;5;190m in \u001b[0m\u001b[48;5;190m central \u001b[0m\u001b[48;5;190m Arkansas \u001b[0m\u001b[48;5;190m, \u001b[0m\u001b[48;5;190m it \u001b[0m\u001b[48;5;190m was \u001b[0m\u001b[48;5;190m also \u001b[0m\u001b[48;5;190m the \u001b[0m\u001b[48;5;190m birthplace \u001b[0m\u001b[48;5;190m of \u001b[0m\u001b[48;5;190m General \u001b[0m\u001b[48;5;160m the \u001b[0m\u001b[48;5;190m MacArthur \u001b[0m\u001b[48;5;190m, \u001b[0m\u001b[48;5;190m who \u001b[0m\u001b[48;5;160m ebook \u001b[0m\u001b[48;5;190m the \u001b[0m\u001b[48;5;160m437 \u001b[0m\n",
      "\n",
      "\u001b[48;5;190m commander \u001b[0m\u001b[48;5;190m of \u001b[0m\u001b[48;5;190m US \u001b[0m\u001b[48;5;190m forces \u001b[0m\u001b[48;5;190m in \u001b[0m\u001b[48;5;190m the \u001b[0m\u001b[48;5;190m South \u001b[0m\u001b[48;5;190m Pacific \u001b[0m\u001b[48;5;190m during \u001b[0m\u001b[48;5;160m 247 \u001b[0m\u001b[48;5;190m War \u001b[0m\u001b[48;5;190m II \u001b[0m\u001b[48;5;190m. \u001b[0m\u001b[48;5;190m It \u001b[0m\u001b[48;5;190m was \u001b[0m\u001b[48;5;190m also \u001b[0m\u001b[48;5;190m the \u001b[0m\u001b[48;5;190m starting \u001b[0m\u001b[48;5;190m place \u001b[0m\u001b[48;5;190m of \u001b[0m\u001b[48;5;190m the \u001b[0m\u001b[48;5;190m Camden \u001b[0m\u001b[48;5;190m Expedition \u001b[0m\u001b[48;5;190m. \u001b[0m\u001b[48;5;190m In \u001b[0m\u001b[48;5;190m 2011 \u001b[0m\u001b[48;5;190m it \u001b[0m\u001b[48;5;190m was \u001b[0m\u001b[48;5;190m named \u001b[0m\u001b[48;5;190m as \u001b[0m\u001b[48;5;190m one \u001b[0m\u001b[48;5;160m and \u001b[0m\n",
      "\n",
      "\u001b[48;5;190m the \u001b[0m\u001b[48;5;190m top \u001b[0m\u001b[48;5;190m 10 \u001b[0m\u001b[48;5;190m attractions \u001b[0m\u001b[48;5;160m Little \u001b[0m\u001b[48;5;160m in \u001b[0m\u001b[48;5;190m state \u001b[0m\u001b[48;5;160munk \u001b[0m\u001b[48;5;190m Arkansas \u001b[0m\u001b[48;5;190m by \u001b[0m\u001b[48;5;190m < \u001b[0m\u001b[48;5;160m Club \u001b[0m\u001b[48;5;190m> \u001b[0m\u001b[48;5;190m  \u001b[0m\u001b[48;5;190m\n",
      " \u001b[0m\u001b[48;5;190m The \u001b[0m\u001b[48;5;190m arsenal \u001b[0m\u001b[48;5;190m was \u001b[0m\u001b[48;5;190m constructed \u001b[0m\u001b[48;5;190m at \u001b[0m\u001b[48;5;160m became \u001b[0m\u001b[48;5;190m request \u001b[0m\u001b[48;5;190m of \u001b[0m\u001b[48;5;190m Governor \u001b[0m\u001b[48;5;190m James \u001b[0m\u001b[48;5;190m Sev \u001b[0m\u001b[48;5;190mier \u001b[0m\u001b[48;5;190m Conway \u001b[0m\u001b[48;5;160m@ \u001b[0m\u001b[48;5;190m response \u001b[0m\u001b[48;5;190m to \u001b[0m\u001b[48;5;160m proto \u001b[0m\n",
      "\n",
      "\u001b[48;5;190m perceived \u001b[0m\u001b[48;5;190m dangers \u001b[0m\u001b[48;5;190m of \u001b[0m\u001b[48;5;190m frontier \u001b[0m\u001b[48;5;190m life \u001b[0m\u001b[48;5;160m Douglas \u001b[0m\u001b[48;5;190m fears \u001b[0m\u001b[48;5;190m of \u001b[0m\u001b[48;5;190m the \u001b[0m\u001b[48;5;190m many \u001b[0m\u001b[48;5;190m Native \u001b[0m\u001b[48;5;190m Americans \u001b[0m\u001b[48;5;190m who \u001b[0m\u001b[48;5;190m were \u001b[0m\u001b[48;5;190m passing \u001b[0m\u001b[48;5;190m through \u001b[0m\u001b[48;5;190m the \u001b[0m\u001b[48;5;190m state \u001b[0m\u001b[48;5;190m on \u001b[0m\u001b[48;5;190m their \u001b[0m\u001b[48;5;190m way \u001b[0m\u001b[48;5;190m to \u001b[0m\u001b[48;5;190m the \u001b[0m\u001b[48;5;190m newly \u001b[0m\u001b[48;5;190m established \u001b[0m\u001b[48;5;160m Ventures \u001b[0m\u001b[48;5;190m Territory \u001b[0m\u001b[48;5;190m. \u001b[0m\u001b[48;5;190m Thirty \u001b[0m\u001b[48;5;190m @ \u001b[0m\u001b[48;5;190m- \u001b[0m\u001b[48;5;160m. \u001b[0m\n",
      "\n"
     ]
    }
   ],
   "source": [
    "user.print_and_mark_correct(reconstructed_user_data, true_user_data)"
   ]
  },
  {
   "cell_type": "markdown",
   "id": "04adeafc",
   "metadata": {},
   "source": [
    "### Notes:\n",
    "* There are a variety of hyperparameters to the attack which are set to reasonable defaults. Performance of the attack could be improved in some unusual use cases (datasets or models) by tuning these parameters further.\n",
    "* In this example, dropout is disabled under the assumption that this is a parameter that can be controlled in the server update. The optimal attack simply disables dropout. However, the attack can still succeed when dropout is enforced by the user, albeit with a minor loss in reconstruction quality.\n",
    "* Try increasing `num_data_points` or `data.shape`"
   ]
  }
 ],
 "metadata": {
  "kernelspec": {
   "display_name": "Python 3 (ipykernel)",
   "language": "python",
   "name": "python3"
  },
  "language_info": {
   "codemirror_mode": {
    "name": "ipython",
    "version": 3
   },
   "file_extension": ".py",
   "mimetype": "text/x-python",
   "name": "python",
   "nbconvert_exporter": "python",
   "pygments_lexer": "ipython3",
   "version": "3.9.12"
  }
 },
 "nbformat": 4,
 "nbformat_minor": 5
}
